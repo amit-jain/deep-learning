{
 "cells": [
  {
   "cell_type": "markdown",
   "metadata": {
    "collapsed": true,
    "deletable": true,
    "editable": true
   },
   "source": [
    "# Image Classification\n",
    "In this project, you'll classify images from the [CIFAR-10 dataset](https://www.cs.toronto.edu/~kriz/cifar.html).  The dataset consists of airplanes, dogs, cats, and other objects. You'll preprocess the images, then train a convolutional neural network on all the samples. The images need to be normalized and the labels need to be one-hot encoded.  You'll get to apply what you learned and build a convolutional, max pooling, dropout, and fully connected layers.  At the end, you'll get to see your neural network's predictions on the sample images.\n",
    "## Get the Data\n",
    "Run the following cell to download the [CIFAR-10 dataset for python](https://www.cs.toronto.edu/~kriz/cifar-10-python.tar.gz)."
   ]
  },
  {
   "cell_type": "code",
   "execution_count": 1,
   "metadata": {
    "collapsed": false,
    "deletable": true,
    "editable": true
   },
   "outputs": [
    {
     "name": "stderr",
     "output_type": "stream",
     "text": [
      "CIFAR-10 Dataset: 171MB [00:34, 4.91MB/s]                               \n"
     ]
    },
    {
     "name": "stdout",
     "output_type": "stream",
     "text": [
      "All files found!\n"
     ]
    }
   ],
   "source": [
    "\"\"\"\n",
    "DON'T MODIFY ANYTHING IN THIS CELL THAT IS BELOW THIS LINE\n",
    "\"\"\"\n",
    "from urllib.request import urlretrieve\n",
    "from os.path import isfile, isdir\n",
    "from tqdm import tqdm\n",
    "import problem_unittests as tests\n",
    "import tarfile\n",
    "\n",
    "cifar10_dataset_folder_path = 'cifar-10-batches-py'\n",
    "\n",
    "# Use Floyd's cifar-10 dataset if present\n",
    "floyd_cifar10_location = '/input/cifar-10/python.tar.gz'\n",
    "if isfile(floyd_cifar10_location):\n",
    "    tar_gz_path = floyd_cifar10_location\n",
    "else:\n",
    "    tar_gz_path = 'cifar-10-python.tar.gz'\n",
    "\n",
    "class DLProgress(tqdm):\n",
    "    last_block = 0\n",
    "\n",
    "    def hook(self, block_num=1, block_size=1, total_size=None):\n",
    "        self.total = total_size\n",
    "        self.update((block_num - self.last_block) * block_size)\n",
    "        self.last_block = block_num\n",
    "\n",
    "if not isfile(tar_gz_path):\n",
    "    with DLProgress(unit='B', unit_scale=True, miniters=1, desc='CIFAR-10 Dataset') as pbar:\n",
    "        urlretrieve(\n",
    "            'https://www.cs.toronto.edu/~kriz/cifar-10-python.tar.gz',\n",
    "            tar_gz_path,\n",
    "            pbar.hook)\n",
    "\n",
    "if not isdir(cifar10_dataset_folder_path):\n",
    "    with tarfile.open(tar_gz_path) as tar:\n",
    "        tar.extractall()\n",
    "        tar.close()\n",
    "\n",
    "\n",
    "tests.test_folder_path(cifar10_dataset_folder_path)"
   ]
  },
  {
   "cell_type": "markdown",
   "metadata": {
    "deletable": true,
    "editable": true
   },
   "source": [
    "## Explore the Data\n",
    "The dataset is broken into batches to prevent your machine from running out of memory.  The CIFAR-10 dataset consists of 5 batches, named `data_batch_1`, `data_batch_2`, etc.. Each batch contains the labels and images that are one of the following:\n",
    "* airplane\n",
    "* automobile\n",
    "* bird\n",
    "* cat\n",
    "* deer\n",
    "* dog\n",
    "* frog\n",
    "* horse\n",
    "* ship\n",
    "* truck\n",
    "\n",
    "Understanding a dataset is part of making predictions on the data.  Play around with the code cell below by changing the `batch_id` and `sample_id`. The `batch_id` is the id for a batch (1-5). The `sample_id` is the id for a image and label pair in the batch.\n",
    "\n",
    "Ask yourself \"What are all possible labels?\", \"What is the range of values for the image data?\", \"Are the labels in order or random?\".  Answers to questions like these will help you preprocess the data and end up with better predictions."
   ]
  },
  {
   "cell_type": "code",
   "execution_count": 2,
   "metadata": {
    "collapsed": false,
    "deletable": true,
    "editable": true
   },
   "outputs": [
    {
     "name": "stdout",
     "output_type": "stream",
     "text": [
      "\n",
      "Stats of batch 1:\n",
      "Samples: 10000\n",
      "Label Counts: {0: 1005, 1: 974, 2: 1032, 3: 1016, 4: 999, 5: 937, 6: 1030, 7: 1001, 8: 1025, 9: 981}\n",
      "First 20 Labels: [6, 9, 9, 4, 1, 1, 2, 7, 8, 3, 4, 7, 7, 2, 9, 9, 9, 3, 2, 6]\n",
      "\n",
      "Example of Image 5:\n",
      "Image - Min Value: 0 Max Value: 252\n",
      "Image - Shape: (32, 32, 3)\n",
      "Label - Label Id: 1 Name: automobile\n"
     ]
    },
    {
     "data": {
      "image/png": "[encoded data removed]",
      "text/plain": [
       "<matplotlib.figure.Figure at 0x7eff42869048>"
      ]
     },
     "metadata": {
      "image/png": {
       "height": 250,
       "width": 253
      }
     },
     "output_type": "display_data"
    }
   ],
   "source": [
    "%matplotlib inline\n",
    "%config InlineBackend.figure_format = 'retina'\n",
    "\n",
    "import helper\n",
    "import numpy as np\n",
    "\n",
    "# Explore the dataset\n",
    "batch_id = 1\n",
    "sample_id = 5\n",
    "helper.display_stats(cifar10_dataset_folder_path, batch_id, sample_id)"
   ]
  },
  {
   "cell_type": "markdown",
   "metadata": {
    "deletable": true,
    "editable": true
   },
   "source": [
    "## Implement Preprocess Functions\n",
    "### Normalize\n",
    "In the cell below, implement the `normalize` function to take in image data, `x`, and return it as a normalized Numpy array. The values should be in the range of 0 to 1, inclusive.  The return object should be the same shape as `x`."
   ]
  },
  {
   "cell_type": "code",
   "execution_count": 10,
   "metadata": {
    "collapsed": false,
    "deletable": true,
    "editable": true
   },
   "outputs": [
    {
     "name": "stdout",
     "output_type": "stream",
     "text": [
      "Tests Passed\n"
     ]
    }
   ],
   "source": [
    "def normalize(x):\n",
    "    \"\"\"\n",
    "    Normalize a list of sample image data in the range of 0 to 1\n",
    "    : x: List of image data.  The image shape is (32, 32, 3)\n",
    "    : return: Numpy array of normalize data\n",
    "    \"\"\"\n",
    "    # TODO: Implement Function\n",
    "    return np.asarray([(img - img.min())/(img.max() - img.min()) for img in x])\n",
    "\n",
    "\n",
    "\"\"\"\n",
    "DON'T MODIFY ANYTHING IN THIS CELL THAT IS BELOW THIS LINE\n",
    "\"\"\"\n",
    "tests.test_normalize(normalize)"
   ]
  },
  {
   "cell_type": "markdown",
   "metadata": {
    "deletable": true,
    "editable": true
   },
   "source": [
    "### One-hot encode\n",
    "Just like the previous code cell, you'll be implementing a function for preprocessing.  This time, you'll implement the `one_hot_encode` function. The input, `x`, are a list of labels.  Implement the function to return the list of labels as One-Hot encoded Numpy array.  The possible values for labels are 0 to 9. The one-hot encoding function should return the same encoding for each value between each call to `one_hot_encode`.  Make sure to save the map of encodings outside the function.\n",
    "\n",
    "Hint: Don't reinvent the wheel."
   ]
  },
  {
   "cell_type": "code",
   "execution_count": 16,
   "metadata": {
    "collapsed": false,
    "deletable": true,
    "editable": true
   },
   "outputs": [
    {
     "name": "stdout",
     "output_type": "stream",
     "text": [
      "Tests Passed\n"
     ]
    }
   ],
   "source": [
    "from sklearn.preprocessing import LabelBinarizer\n",
    "\n",
    "def one_hot_encode(x):\n",
    "    \"\"\"\n",
    "    One hot encode a list of sample labels. Return a one-hot encoded vector for each label.\n",
    "    : x: List of sample Labels\n",
    "    : return: Numpy array of one-hot encoded labels\n",
    "    \"\"\"\n",
    "    # TODO: Implement Function\n",
    "    n_classes = 10\n",
    "    label_names = helper._load_label_names()\n",
    "    label_binarizer = LabelBinarizer()\n",
    "    label_binarizer.fit(range(n_classes))\n",
    "    labels = label_binarizer.transform(np.array(x))\n",
    "\n",
    "    return labels\n",
    "\n",
    "\n",
    "\"\"\"\n",
    "DON'T MODIFY ANYTHING IN THIS CELL THAT IS BELOW THIS LINE\n",
    "\"\"\"\n",
    "tests.test_one_hot_encode(one_hot_encode)"
   ]
  },
  {
   "cell_type": "markdown",
   "metadata": {
    "deletable": true,
    "editable": true
   },
   "source": [
    "### Randomize Data\n",
    "As you saw from exploring the data above, the order of the samples are randomized.  It doesn't hurt to randomize it again, but you don't need to for this dataset."
   ]
  },
  {
   "cell_type": "markdown",
   "metadata": {
    "deletable": true,
    "editable": true
   },
   "source": [
    "## Preprocess all the data and save it\n",
    "Running the code cell below will preprocess all the CIFAR-10 data and save it to file. The code below also uses 10% of the training data for validation."
   ]
  },
  {
   "cell_type": "code",
   "execution_count": 17,
   "metadata": {
    "collapsed": false,
    "deletable": true,
    "editable": true
   },
   "outputs": [],
   "source": [
    "\"\"\"\n",
    "DON'T MODIFY ANYTHING IN THIS CELL\n",
    "\"\"\"\n",
    "# Preprocess Training, Validation, and Testing Data\n",
    "helper.preprocess_and_save_data(cifar10_dataset_folder_path, normalize, one_hot_encode)"
   ]
  },
  {
   "cell_type": "markdown",
   "metadata": {
    "deletable": true,
    "editable": true
   },
   "source": [
    "# Check Point\n",
    "This is your first checkpoint.  If you ever decide to come back to this notebook or have to restart the notebook, you can start from here.  The preprocessed data has been saved to disk."
   ]
  },
  {
   "cell_type": "code",
   "execution_count": 18,
   "metadata": {
    "collapsed": true,
    "deletable": true,
    "editable": true
   },
   "outputs": [],
   "source": [
    "\"\"\"\n",
    "DON'T MODIFY ANYTHING IN THIS CELL\n",
    "\"\"\"\n",
    "import pickle\n",
    "import problem_unittests as tests\n",
    "import helper\n",
    "\n",
    "# Load the Preprocessed Validation data\n",
    "valid_features, valid_labels = pickle.load(open('preprocess_validation.p', mode='rb'))"
   ]
  },
  {
   "cell_type": "markdown",
   "metadata": {
    "deletable": true,
    "editable": true
   },
   "source": [
    "## Build the network\n",
    "For the neural network, you'll build each layer into a function.  Most of the code you've seen has been outside of functions. To test your code more thoroughly, we require that you put each layer in a function.  This allows us to give you better feedback and test for simple mistakes using our unittests before you submit your project.\n",
    "\n",
    ">**Note:** If you're finding it hard to dedicate enough time for this course each week, we've provided a small shortcut to this part of the project. In the next couple of problems, you'll have the option to use classes from the [TensorFlow Layers](https://www.tensorflow.org/api_docs/python/tf/layers) or [TensorFlow Layers (contrib)](https://www.tensorflow.org/api_guides/python/contrib.layers) packages to build each layer, except the layers you build in the \"Convolutional and Max Pooling Layer\" section.  TF Layers is similar to Keras's and TFLearn's abstraction to layers, so it's easy to pickup.\n",
    "\n",
    ">However, if you would like to get the most out of this course, try to solve all the problems _without_ using anything from the TF Layers packages. You **can** still use classes from other packages that happen to have the same name as ones you find in TF Layers! For example, instead of using the TF Layers version of the `conv2d` class, [tf.layers.conv2d](https://www.tensorflow.org/api_docs/python/tf/layers/conv2d), you would want to use the TF Neural Network version of `conv2d`, [tf.nn.conv2d](https://www.tensorflow.org/api_docs/python/tf/nn/conv2d). \n",
    "\n",
    "Let's begin!\n",
    "\n",
    "### Input\n",
    "The neural network needs to read the image data, one-hot encoded labels, and dropout keep probability. Implement the following functions\n",
    "* Implement `neural_net_image_input`\n",
    " * Return a [TF Placeholder](https://www.tensorflow.org/api_docs/python/tf/placeholder)\n",
    " * Set the shape using `image_shape` with batch size set to `None`.\n",
    " * Name the TensorFlow placeholder \"x\" using the TensorFlow `name` parameter in the [TF Placeholder](https://www.tensorflow.org/api_docs/python/tf/placeholder).\n",
    "* Implement `neural_net_label_input`\n",
    " * Return a [TF Placeholder](https://www.tensorflow.org/api_docs/python/tf/placeholder)\n",
    " * Set the shape using `n_classes` with batch size set to `None`.\n",
    " * Name the TensorFlow placeholder \"y\" using the TensorFlow `name` parameter in the [TF Placeholder](https://www.tensorflow.org/api_docs/python/tf/placeholder).\n",
    "* Implement `neural_net_keep_prob_input`\n",
    " * Return a [TF Placeholder](https://www.tensorflow.org/api_docs/python/tf/placeholder) for dropout keep probability.\n",
    " * Name the TensorFlow placeholder \"keep_prob\" using the TensorFlow `name` parameter in the [TF Placeholder](https://www.tensorflow.org/api_docs/python/tf/placeholder).\n",
    "\n",
    "These names will be used at the end of the project to load your saved model.\n",
    "\n",
    "Note: `None` for shapes in TensorFlow allow for a dynamic size."
   ]
  },
  {
   "cell_type": "code",
   "execution_count": 22,
   "metadata": {
    "collapsed": false,
    "deletable": true,
    "editable": true
   },
   "outputs": [
    {
     "name": "stdout",
     "output_type": "stream",
     "text": [
      "Image Input Tests Passed.\n",
      "Label Input Tests Passed.\n",
      "Keep Prob Tests Passed.\n"
     ]
    }
   ],
   "source": [
    "import tensorflow as tf\n",
    "\n",
    "def neural_net_image_input(image_shape):\n",
    "    \"\"\"\n",
    "    Return a Tensor for a batch of image input\n",
    "    : image_shape: Shape of the images\n",
    "    : return: Tensor for image input.\n",
    "    \"\"\"\n",
    "    # TODO: Implement Function\n",
    "    return tf.placeholder(dtype = tf.float32, shape=(None, image_shape[0], image_shape[1], image_shape[2]), name='x')\n",
    "\n",
    "\n",
    "def neural_net_label_input(n_classes):\n",
    "    \"\"\"\n",
    "    Return a Tensor for a batch of label input\n",
    "    : n_classes: Number of classes\n",
    "    : return: Tensor for label input.\n",
    "    \"\"\"\n",
    "    # TODO: Implement Function\n",
    "    return tf.placeholder(dtype = tf.float32, shape=(None, n_classes), name='y')\n",
    "\n",
    "\n",
    "def neural_net_keep_prob_input():\n",
    "    \"\"\"\n",
    "    Return a Tensor for keep probability\n",
    "    : return: Tensor for keep probability.\n",
    "    \"\"\"\n",
    "    # TODO: Implement Function\n",
    "    return tf.placeholder(dtype = tf.float32, name='keep_prob')\n",
    "\n",
    "\n",
    "\"\"\"\n",
    "DON'T MODIFY ANYTHING IN THIS CELL THAT IS BELOW THIS LINE\n",
    "\"\"\"\n",
    "tf.reset_default_graph()\n",
    "tests.test_nn_image_inputs(neural_net_image_input)\n",
    "tests.test_nn_label_inputs(neural_net_label_input)\n",
    "tests.test_nn_keep_prob_inputs(neural_net_keep_prob_input)"
   ]
  },
  {
   "cell_type": "markdown",
   "metadata": {
    "deletable": true,
    "editable": true
   },
   "source": [
    "### Convolution and Max Pooling Layer\n",
    "Convolution layers have a lot of success with images. For this code cell, you should implement the function `conv2d_maxpool` to apply convolution then max pooling:\n",
    "* Create the weight and bias using `conv_ksize`, `conv_num_outputs` and the shape of `x_tensor`.\n",
    "* Apply a convolution to `x_tensor` using weight and `conv_strides`.\n",
    " * We recommend you use same padding, but you're welcome to use any padding.\n",
    "* Add bias\n",
    "* Add a nonlinear activation to the convolution.\n",
    "* Apply Max Pooling using `pool_ksize` and `pool_strides`.\n",
    " * We recommend you use same padding, but you're welcome to use any padding.\n",
    "\n",
    "**Note:** You **can't** use [TensorFlow Layers](https://www.tensorflow.org/api_docs/python/tf/layers) or [TensorFlow Layers (contrib)](https://www.tensorflow.org/api_guides/python/contrib.layers) for **this** layer, but you can still use TensorFlow's [Neural Network](https://www.tensorflow.org/api_docs/python/tf/nn) package. You may still use the shortcut option for all the **other** layers."
   ]
  },
  {
   "cell_type": "code",
   "execution_count": 33,
   "metadata": {
    "collapsed": false,
    "deletable": true,
    "editable": true
   },
   "outputs": [
    {
     "name": "stdout",
     "output_type": "stream",
     "text": [
      "Tests Passed\n"
     ]
    }
   ],
   "source": [
    "def conv2d_maxpool(x_tensor, conv_num_outputs, conv_ksize, conv_strides, pool_ksize, pool_strides):\n",
    "    \"\"\"\n",
    "    Apply convolution then max pooling to x_tensor\n",
    "    :param x_tensor: TensorFlow Tensor\n",
    "    :param conv_num_outputs: Number of outputs for the convolutional layer\n",
    "    :param conv_ksize: kernal size 2-D Tuple for the convolutional layer\n",
    "    :param conv_strides: Stride 2-D Tuple for convolution\n",
    "    :param pool_ksize: kernal size 2-D Tuple for pool\n",
    "    :param pool_strides: Stride 2-D Tuple for pool\n",
    "    : return: A tensor that represents convolution and max pooling of x_tensor\n",
    "    \"\"\"\n",
    "    # TODO: Implement Function\n",
    "    conv_w = tf.Variable(tf.truncated_normal(shape=(conv_ksize[0], conv_ksize[1], \\\n",
    "                                                    x_tensor.shape.dims[3].value, conv_num_outputs),\\\n",
    "                                             mean=0, stddev=0.1))\n",
    "    conv_b = tf.Variable(tf.zeros(conv_num_outputs))\n",
    "    conv = tf.nn.conv2d(x_tensor, conv_w, strides=[1, conv_strides[0], conv_strides[1], 1], padding = 'SAME') \\\n",
    "            + conv_b\n",
    "    \n",
    "    # Activation.\n",
    "    conv = tf.nn.relu(conv)\n",
    "\n",
    "    conv = tf.nn.max_pool(conv, ksize = [1, pool_ksize[0], pool_ksize[1], 1], \\\n",
    "                          strides=[1, pool_strides[0], pool_strides[1], 1], padding = 'SAME')\n",
    "\n",
    "    return conv\n",
    "\n",
    "\n",
    "\"\"\"\n",
    "DON'T MODIFY ANYTHING IN THIS CELL THAT IS BELOW THIS LINE\n",
    "\"\"\"\n",
    "tests.test_con_pool(conv2d_maxpool)"
   ]
  },
  {
   "cell_type": "markdown",
   "metadata": {
    "deletable": true,
    "editable": true
   },
   "source": [
    "### Flatten Layer\n",
    "Implement the `flatten` function to change the dimension of `x_tensor` from a 4-D tensor to a 2-D tensor.  The output should be the shape (*Batch Size*, *Flattened Image Size*). Shortcut option: you can use classes from the [TensorFlow Layers](https://www.tensorflow.org/api_docs/python/tf/layers) or [TensorFlow Layers (contrib)](https://www.tensorflow.org/api_guides/python/contrib.layers) packages for this layer. For more of a challenge, only use other TensorFlow packages."
   ]
  },
  {
   "cell_type": "code",
   "execution_count": 35,
   "metadata": {
    "collapsed": false,
    "deletable": true,
    "editable": true
   },
   "outputs": [
    {
     "name": "stdout",
     "output_type": "stream",
     "text": [
      "Tests Passed\n"
     ]
    }
   ],
   "source": [
    "def flatten(x_tensor):\n",
    "    \"\"\"\n",
    "    Flatten x_tensor to (Batch Size, Flattened Image Size)\n",
    "    : x_tensor: A tensor of size (Batch Size, ...), where ... are the image dimensions.\n",
    "    : return: A tensor of size (Batch Size, Flattened Image Size).\n",
    "    \"\"\"\n",
    "    # TODO: Implement Function\n",
    "    shape = x_tensor.get_shape().as_list()\n",
    "    dim = np.prod(shape[1:])\n",
    "    return tf.reshape(x_tensor, [-1, dim])\n",
    "\n",
    "\n",
    "\"\"\"\n",
    "DON'T MODIFY ANYTHING IN THIS CELL THAT IS BELOW THIS LINE\n",
    "\"\"\"\n",
    "tests.test_flatten(flatten)"
   ]
  },
  {
   "cell_type": "markdown",
   "metadata": {
    "deletable": true,
    "editable": true
   },
   "source": [
    "### Fully-Connected Layer\n",
    "Implement the `fully_conn` function to apply a fully connected layer to `x_tensor` with the shape (*Batch Size*, *num_outputs*). Shortcut option: you can use classes from the [TensorFlow Layers](https://www.tensorflow.org/api_docs/python/tf/layers) or [TensorFlow Layers (contrib)](https://www.tensorflow.org/api_guides/python/contrib.layers) packages for this layer. For more of a challenge, only use other TensorFlow packages."
   ]
  },
  {
   "cell_type": "code",
   "execution_count": 38,
   "metadata": {
    "collapsed": false,
    "deletable": true,
    "editable": true
   },
   "outputs": [
    {
     "name": "stdout",
     "output_type": "stream",
     "text": [
      "Tests Passed\n"
     ]
    }
   ],
   "source": [
    "def fully_conn(x_tensor, num_outputs):\n",
    "    \"\"\"\n",
    "    Apply a fully connected layer to x_tensor using weight and bias\n",
    "    : x_tensor: A 2-D tensor where the first dimension is batch size.\n",
    "    : num_outputs: The number of output that the new tensor should be.\n",
    "    : return: A 2-D tensor where the second dimension is num_outputs.\n",
    "    \"\"\"\n",
    "    # TODO: Implement Function\n",
    "    fc_w = tf.Variable(tf.truncated_normal(shape=(x_tensor.get_shape().as_list()[-1], num_outputs), mean=0, stddev=0.1))\n",
    "    fc_b = tf.Variable(tf.zeros(num_outputs))\n",
    "    fc = tf.matmul(x_tensor, fc_w) + fc_b\n",
    "    fc = tf.nn.relu(fc)\n",
    "\n",
    "    return fc\n",
    "\n",
    "\n",
    "\"\"\"\n",
    "DON'T MODIFY ANYTHING IN THIS CELL THAT IS BELOW THIS LINE\n",
    "\"\"\"\n",
    "tests.test_fully_conn(fully_conn)"
   ]
  },
  {
   "cell_type": "markdown",
   "metadata": {
    "deletable": true,
    "editable": true
   },
   "source": [
    "### Output Layer\n",
    "Implement the `output` function to apply a fully connected layer to `x_tensor` with the shape (*Batch Size*, *num_outputs*). Shortcut option: you can use classes from the [TensorFlow Layers](https://www.tensorflow.org/api_docs/python/tf/layers) or [TensorFlow Layers (contrib)](https://www.tensorflow.org/api_guides/python/contrib.layers) packages for this layer. For more of a challenge, only use other TensorFlow packages.\n",
    "\n",
    "**Note:** Activation, softmax, or cross entropy should **not** be applied to this."
   ]
  },
  {
   "cell_type": "code",
   "execution_count": 39,
   "metadata": {
    "collapsed": false,
    "deletable": true,
    "editable": true
   },
   "outputs": [
    {
     "name": "stdout",
     "output_type": "stream",
     "text": [
      "Tests Passed\n"
     ]
    }
   ],
   "source": [
    "def output(x_tensor, num_outputs):\n",
    "    \"\"\"\n",
    "    Apply a output layer to x_tensor using weight and bias\n",
    "    : x_tensor: A 2-D tensor where the first dimension is batch size.\n",
    "    : num_outputs: The number of output that the new tensor should be.\n",
    "    : return: A 2-D tensor where the second dimension is num_outputs.\n",
    "    \"\"\"\n",
    "    # TODO: Implement Function\n",
    "    fc_w = tf.Variable(tf.truncated_normal(shape=(x_tensor.get_shape().as_list()[-1], num_outputs), mean=0, stddev=0.1))\n",
    "    fc_b = tf.Variable(tf.zeros(num_outputs))\n",
    "    fc = tf.matmul(x_tensor, fc_w) + fc_b\n",
    "    return fc\n",
    "\n",
    "\"\"\"\n",
    "DON'T MODIFY ANYTHING IN THIS CELL THAT IS BELOW THIS LINE\n",
    "\"\"\"\n",
    "tests.test_output(output)"
   ]
  },
  {
   "cell_type": "markdown",
   "metadata": {
    "deletable": true,
    "editable": true
   },
   "source": [
    "### Create Convolutional Model\n",
    "Implement the function `conv_net` to create a convolutional neural network model. The function takes in a batch of images, `x`, and outputs logits.  Use the layers you created above to create this model:\n",
    "\n",
    "* Apply 1, 2, or 3 Convolution and Max Pool layers\n",
    "* Apply a Flatten Layer\n",
    "* Apply 1, 2, or 3 Fully Connected Layers\n",
    "* Apply an Output Layer\n",
    "* Return the output\n",
    "* Apply [TensorFlow's Dropout](https://www.tensorflow.org/api_docs/python/tf/nn/dropout) to one or more layers in the model using `keep_prob`. "
   ]
  },
  {
   "cell_type": "code",
   "execution_count": 41,
   "metadata": {
    "collapsed": false,
    "deletable": true,
    "editable": true
   },
   "outputs": [
    {
     "name": "stdout",
     "output_type": "stream",
     "text": [
      "Neural Network Built!\n"
     ]
    }
   ],
   "source": [
    "def conv_net(x, keep_prob):\n",
    "    \"\"\"\n",
    "    Create a convolutional neural network model\n",
    "    : x: Placeholder tensor that holds image data.\n",
    "    : keep_prob: Placeholder tensor that hold dropout keep probability.\n",
    "    : return: Tensor that represents logits\n",
    "    \"\"\"\n",
    "    # TODO: Apply 1, 2, or 3 Convolution and Max Pool layers\n",
    "    #    Play around with different number of outputs, kernel size and stride\n",
    "    # Function Definition from Above:\n",
    "    #    conv2d_maxpool(x_tensor, conv_num_outputs, conv_ksize, conv_strides, pool_ksize, pool_strides)\n",
    "    \n",
    "    conv1 = conv2d_maxpool(x, 32, (5, 5), (1, 1), (2, 2), (2, 2))\n",
    "    conv2 = conv2d_maxpool(conv1, 64, (5, 5), (1, 1), (2, 2), (2, 2))\n",
    "    conv3 = conv2d_maxpool(conv2, 128, (3, 3), (1, 1), (2, 2), (2, 2))\n",
    "    \n",
    "    # TODO: Apply a Flatten Layer\n",
    "    # Function Definition from Above:\n",
    "    #   flatten(x_tensor)\n",
    "    fc0 = flatten(conv3)\n",
    "\n",
    "    # TODO: Apply 1, 2, or 3 Fully Connected Layers\n",
    "    #    Play around with different number of outputs\n",
    "    # Function Definition from Above:\n",
    "    #   fully_conn(x_tensor, num_outputs)\n",
    "    fc1 = fully_conn(fc0, 512)\n",
    "    fc1 = tf.nn.dropout(fc1, keep_prob=keep_prob)\n",
    "\n",
    "    fc2 = fully_conn(fc1, 256)\n",
    "    fc2 = tf.nn.dropout(fc2, keep_prob=keep_prob)\n",
    "\n",
    "    fc3 = fully_conn(fc2, 64)\n",
    "    fc3 = tf.nn.dropout(fc3, keep_prob=keep_prob)\n",
    "    \n",
    "    # TODO: Apply an Output Layer\n",
    "    #    Set this to the number of classes\n",
    "    # Function Definition from Above:\n",
    "    #   output(x_tensor, num_outputs)\n",
    "    logits = output(fc3, 10)\n",
    "    \n",
    "    # TODO: return output\n",
    "    return logits\n",
    "\n",
    "\n",
    "\"\"\"\n",
    "DON'T MODIFY ANYTHING IN THIS CELL THAT IS BELOW THIS LINE\n",
    "\"\"\"\n",
    "\n",
    "##############################\n",
    "## Build the Neural Network ##\n",
    "##############################\n",
    "\n",
    "# Remove previous weights, bias, inputs, etc..\n",
    "tf.reset_default_graph()\n",
    "\n",
    "# Inputs\n",
    "x = neural_net_image_input((32, 32, 3))\n",
    "y = neural_net_label_input(10)\n",
    "keep_prob = neural_net_keep_prob_input()\n",
    "\n",
    "# Model\n",
    "logits = conv_net(x, keep_prob)\n",
    "\n",
    "# Name logits Tensor, so that is can be loaded from disk after training\n",
    "logits = tf.identity(logits, name='logits')\n",
    "\n",
    "# Loss and Optimizer\n",
    "cost = tf.reduce_mean(tf.nn.softmax_cross_entropy_with_logits(logits=logits, labels=y))\n",
    "optimizer = tf.train.AdamOptimizer().minimize(cost)\n",
    "\n",
    "# Accuracy\n",
    "correct_pred = tf.equal(tf.argmax(logits, 1), tf.argmax(y, 1))\n",
    "accuracy = tf.reduce_mean(tf.cast(correct_pred, tf.float32), name='accuracy')\n",
    "\n",
    "tests.test_conv_net(conv_net)"
   ]
  },
  {
   "cell_type": "markdown",
   "metadata": {
    "deletable": true,
    "editable": true
   },
   "source": [
    "## Train the Neural Network\n",
    "### Single Optimization\n",
    "Implement the function `train_neural_network` to do a single optimization.  The optimization should use `optimizer` to optimize in `session` with a `feed_dict` of the following:\n",
    "* `x` for image input\n",
    "* `y` for labels\n",
    "* `keep_prob` for keep probability for dropout\n",
    "\n",
    "This function will be called for each batch, so `tf.global_variables_initializer()` has already been called.\n",
    "\n",
    "Note: Nothing needs to be returned. This function is only optimizing the neural network."
   ]
  },
  {
   "cell_type": "code",
   "execution_count": 43,
   "metadata": {
    "collapsed": false,
    "deletable": true,
    "editable": true
   },
   "outputs": [
    {
     "name": "stdout",
     "output_type": "stream",
     "text": [
      "Tests Passed\n"
     ]
    }
   ],
   "source": [
    "def train_neural_network(session, optimizer, keep_probability, feature_batch, label_batch):\n",
    "    \"\"\"\n",
    "    Optimize the session on a batch of images and labels\n",
    "    : session: Current TensorFlow session\n",
    "    : optimizer: TensorFlow optimizer function\n",
    "    : keep_probability: keep probability\n",
    "    : feature_batch: Batch of Numpy image data\n",
    "    : label_batch: Batch of Numpy label data\n",
    "    \"\"\"\n",
    "    # TODO: Implement Function\n",
    "    session.run(optimizer, feed_dict={x: feature_batch, y: label_batch, keep_prob: keep_probability})\n",
    "\n",
    "\n",
    "\"\"\"\n",
    "DON'T MODIFY ANYTHING IN THIS CELL THAT IS BELOW THIS LINE\n",
    "\"\"\"\n",
    "tests.test_train_nn(train_neural_network)"
   ]
  },
  {
   "cell_type": "markdown",
   "metadata": {
    "deletable": true,
    "editable": true
   },
   "source": [
    "### Show Stats\n",
    "Implement the function `print_stats` to print loss and validation accuracy.  Use the global variables `valid_features` and `valid_labels` to calculate validation accuracy.  Use a keep probability of `1.0` to calculate the loss and validation accuracy."
   ]
  },
  {
   "cell_type": "code",
   "execution_count": 47,
   "metadata": {
    "collapsed": false,
    "deletable": true,
    "editable": true
   },
   "outputs": [],
   "source": [
    "def print_stats(session, feature_batch, label_batch, cost, accuracy):\n",
    "    \"\"\"\n",
    "    Print information about loss and validation accuracy\n",
    "    : session: Current TensorFlow session\n",
    "    : feature_batch: Batch of Numpy image data\n",
    "    : label_batch: Batch of Numpy label data\n",
    "    : cost: TensorFlow cost function\n",
    "    : accuracy: TensorFlow accuracy function\n",
    "    \"\"\"\n",
    "    loss = session.run(cost, feed_dict={x: feature_batch, y: label_batch, keep_prob: 1.0})\n",
    "    print('Training Loss', loss)\n",
    "    \n",
    "    # TODO: Implement Function\n",
    "    accuracy = session.run(accuracy, feed_dict={x: valid_features, y: valid_labels, keep_prob: 1.0})\n",
    "    print('Validation accuray', accuracy)"
   ]
  },
  {
   "cell_type": "markdown",
   "metadata": {
    "deletable": true,
    "editable": true
   },
   "source": [
    "### Hyperparameters\n",
    "Tune the following parameters:\n",
    "* Set `epochs` to the number of iterations until the network stops learning or start overfitting\n",
    "* Set `batch_size` to the highest number that your machine has memory for.  Most people set them to common sizes of memory:\n",
    " * 64\n",
    " * 128\n",
    " * 256\n",
    " * ...\n",
    "* Set `keep_probability` to the probability of keeping a node using dropout"
   ]
  },
  {
   "cell_type": "code",
   "execution_count": 48,
   "metadata": {
    "collapsed": true,
    "deletable": true,
    "editable": true
   },
   "outputs": [],
   "source": [
    "# TODO: Tune Parameters\n",
    "epochs = 50\n",
    "batch_size = 128\n",
    "keep_probability = 0.5"
   ]
  },
  {
   "cell_type": "markdown",
   "metadata": {
    "deletable": true,
    "editable": true
   },
   "source": [
    "### Train on a Single CIFAR-10 Batch\n",
    "Instead of training the neural network on all the CIFAR-10 batches of data, let's use a single batch. This should save time while you iterate on the model to get a better accuracy.  Once the final validation accuracy is 50% or greater, run the model on all the data in the next section."
   ]
  },
  {
   "cell_type": "code",
   "execution_count": 49,
   "metadata": {
    "collapsed": false,
    "deletable": true,
    "editable": true
   },
   "outputs": [
    {
     "name": "stdout",
     "output_type": "stream",
     "text": [
      "Checking the Training on a Single Batch...\n",
      "Epoch  1, CIFAR-10 Batch 1:  Training Loss 2.24407\n",
      "Validation accuray 0.2128\n",
      "Epoch  2, CIFAR-10 Batch 1:  Training Loss 2.04589\n",
      "Validation accuray 0.2744\n",
      "Epoch  3, CIFAR-10 Batch 1:  Training Loss 1.90367\n",
      "Validation accuray 0.3476\n",
      "Epoch  4, CIFAR-10 Batch 1:  Training Loss 1.71838\n",
      "Validation accuray 0.3952\n",
      "Epoch  5, CIFAR-10 Batch 1:  Training Loss 1.61361\n",
      "Validation accuray 0.4158\n",
      "Epoch  6, CIFAR-10 Batch 1:  Training Loss 1.48277\n",
      "Validation accuray 0.4486\n",
      "Epoch  7, CIFAR-10 Batch 1:  Training Loss 1.31942\n",
      "Validation accuray 0.4524\n",
      "Epoch  8, CIFAR-10 Batch 1:  Training Loss 1.22377\n",
      "Validation accuray 0.4958\n",
      "Epoch  9, CIFAR-10 Batch 1:  Training Loss 1.00961\n",
      "Validation accuray 0.5038\n",
      "Epoch 10, CIFAR-10 Batch 1:  Training Loss 0.87361\n",
      "Validation accuray 0.5038\n",
      "Epoch 11, CIFAR-10 Batch 1:  Training Loss 0.815915\n",
      "Validation accuray 0.5214\n",
      "Epoch 12, CIFAR-10 Batch 1:  Training Loss 0.773625\n",
      "Validation accuray 0.5496\n",
      "Epoch 13, CIFAR-10 Batch 1:  Training Loss 0.644135\n",
      "Validation accuray 0.5226\n",
      "Epoch 14, CIFAR-10 Batch 1:  Training Loss 0.603349\n",
      "Validation accuray 0.5212\n",
      "Epoch 15, CIFAR-10 Batch 1:  Training Loss 0.522497\n",
      "Validation accuray 0.5398\n",
      "Epoch 16, CIFAR-10 Batch 1:  Training Loss 0.448653\n",
      "Validation accuray 0.5664\n",
      "Epoch 17, CIFAR-10 Batch 1:  Training Loss 0.411623\n",
      "Validation accuray 0.5498\n",
      "Epoch 18, CIFAR-10 Batch 1:  Training Loss 0.47388\n",
      "Validation accuray 0.5398\n",
      "Epoch 19, CIFAR-10 Batch 1:  Training Loss 0.326247\n",
      "Validation accuray 0.5606\n",
      "Epoch 20, CIFAR-10 Batch 1:  Training Loss 0.296902\n",
      "Validation accuray 0.563\n",
      "Epoch 21, CIFAR-10 Batch 1:  Training Loss 0.247272\n",
      "Validation accuray 0.558\n",
      "Epoch 22, CIFAR-10 Batch 1:  Training Loss 0.237315\n",
      "Validation accuray 0.5846\n",
      "Epoch 23, CIFAR-10 Batch 1:  Training Loss 0.22916\n",
      "Validation accuray 0.5786\n",
      "Epoch 24, CIFAR-10 Batch 1:  Training Loss 0.167056\n",
      "Validation accuray 0.572\n",
      "Epoch 25, CIFAR-10 Batch 1:  Training Loss 0.182824\n",
      "Validation accuray 0.5652\n",
      "Epoch 26, CIFAR-10 Batch 1:  Training Loss 0.122552\n",
      "Validation accuray 0.551\n",
      "Epoch 27, CIFAR-10 Batch 1:  Training Loss 0.122081\n",
      "Validation accuray 0.5612\n",
      "Epoch 28, CIFAR-10 Batch 1:  Training Loss 0.0723129\n",
      "Validation accuray 0.5656\n",
      "Epoch 29, CIFAR-10 Batch 1:  Training Loss 0.0932909\n",
      "Validation accuray 0.5768\n",
      "Epoch 30, CIFAR-10 Batch 1:  Training Loss 0.0974919\n",
      "Validation accuray 0.5618\n",
      "Epoch 31, CIFAR-10 Batch 1:  Training Loss 0.0787504\n",
      "Validation accuray 0.5928\n",
      "Epoch 32, CIFAR-10 Batch 1:  Training Loss 0.0657366\n",
      "Validation accuray 0.5724\n",
      "Epoch 33, CIFAR-10 Batch 1:  Training Loss 0.0403726\n",
      "Validation accuray 0.5752\n",
      "Epoch 34, CIFAR-10 Batch 1:  Training Loss 0.028027\n",
      "Validation accuray 0.5658\n",
      "Epoch 35, CIFAR-10 Batch 1:  Training Loss 0.0392768\n",
      "Validation accuray 0.5706\n",
      "Epoch 36, CIFAR-10 Batch 1:  Training Loss 0.0143279\n",
      "Validation accuray 0.5838\n",
      "Epoch 37, CIFAR-10 Batch 1:  Training Loss 0.0201473\n",
      "Validation accuray 0.5612\n",
      "Epoch 38, CIFAR-10 Batch 1:  Training Loss 0.00897007\n",
      "Validation accuray 0.576\n",
      "Epoch 39, CIFAR-10 Batch 1:  Training Loss 0.0436309\n",
      "Validation accuray 0.5788\n",
      "Epoch 40, CIFAR-10 Batch 1:  Training Loss 0.00910851\n",
      "Validation accuray 0.5764\n",
      "Epoch 41, CIFAR-10 Batch 1:  Training Loss 0.00622939\n",
      "Validation accuray 0.5964\n",
      "Epoch 42, CIFAR-10 Batch 1:  Training Loss 0.0126525\n",
      "Validation accuray 0.5872\n",
      "Epoch 43, CIFAR-10 Batch 1:  Training Loss 0.0338428\n",
      "Validation accuray 0.578\n",
      "Epoch 44, CIFAR-10 Batch 1:  Training Loss 0.00432289\n",
      "Validation accuray 0.5758\n",
      "Epoch 45, CIFAR-10 Batch 1:  Training Loss 0.00224496\n",
      "Validation accuray 0.5814\n",
      "Epoch 46, CIFAR-10 Batch 1:  Training Loss 0.00473257\n",
      "Validation accuray 0.5822\n",
      "Epoch 47, CIFAR-10 Batch 1:  Training Loss 0.0113935\n",
      "Validation accuray 0.5674\n",
      "Epoch 48, CIFAR-10 Batch 1:  Training Loss 0.0178249\n",
      "Validation accuray 0.5856\n",
      "Epoch 49, CIFAR-10 Batch 1:  Training Loss 0.00202659\n",
      "Validation accuray 0.5844\n",
      "Epoch 50, CIFAR-10 Batch 1:  Training Loss 0.00211057\n",
      "Validation accuray 0.5776\n"
     ]
    }
   ],
   "source": [
    "\"\"\"\n",
    "DON'T MODIFY ANYTHING IN THIS CELL\n",
    "\"\"\"\n",
    "print('Checking the Training on a Single Batch...')\n",
    "with tf.Session() as sess:\n",
    "    # Initializing the variables\n",
    "    sess.run(tf.global_variables_initializer())\n",
    "    \n",
    "    # Training cycle\n",
    "    for epoch in range(epochs):\n",
    "        batch_i = 1\n",
    "        for batch_features, batch_labels in helper.load_preprocess_training_batch(batch_i, batch_size):\n",
    "            train_neural_network(sess, optimizer, keep_probability, batch_features, batch_labels)\n",
    "        print('Epoch {:>2}, CIFAR-10 Batch {}:  '.format(epoch + 1, batch_i), end='')\n",
    "        print_stats(sess, batch_features, batch_labels, cost, accuracy)"
   ]
  },
  {
   "cell_type": "markdown",
   "metadata": {
    "deletable": true,
    "editable": true
   },
   "source": [
    "### Fully Train the Model\n",
    "Now that you got a good accuracy with a single CIFAR-10 batch, try it with all five batches."
   ]
  },
  {
   "cell_type": "code",
   "execution_count": 50,
   "metadata": {
    "collapsed": false,
    "deletable": true,
    "editable": true
   },
   "outputs": [
    {
     "name": "stdout",
     "output_type": "stream",
     "text": [
      "Training...\n",
      "Epoch  1, CIFAR-10 Batch 1:  Training Loss 2.27729\n",
      "Validation accuray 0.207\n",
      "Epoch  1, CIFAR-10 Batch 2:  Training Loss 2.0938\n",
      "Validation accuray 0.2432\n",
      "Epoch  1, CIFAR-10 Batch 3:  Training Loss 1.75697\n",
      "Validation accuray 0.3122\n",
      "Epoch  1, CIFAR-10 Batch 4:  Training Loss 1.74855\n",
      "Validation accuray 0.3528\n",
      "Epoch  1, CIFAR-10 Batch 5:  Training Loss 1.62871\n",
      "Validation accuray 0.3698\n",
      "Epoch  2, CIFAR-10 Batch 1:  Training Loss 1.71627\n",
      "Validation accuray 0.4262\n",
      "Epoch  2, CIFAR-10 Batch 2:  Training Loss 1.58138\n",
      "Validation accuray 0.4166\n",
      "Epoch  2, CIFAR-10 Batch 3:  Training Loss 1.33478\n",
      "Validation accuray 0.423\n",
      "Epoch  2, CIFAR-10 Batch 4:  Training Loss 1.44485\n",
      "Validation accuray 0.4698\n",
      "Epoch  2, CIFAR-10 Batch 5:  Training Loss 1.41689\n",
      "Validation accuray 0.4668\n",
      "Epoch  3, CIFAR-10 Batch 1:  Training Loss 1.35376\n",
      "Validation accuray 0.5104\n",
      "Epoch  3, CIFAR-10 Batch 2:  Training Loss 1.34389\n",
      "Validation accuray 0.4964\n",
      "Epoch  3, CIFAR-10 Batch 3:  Training Loss 1.11154\n",
      "Validation accuray 0.518\n",
      "Epoch  3, CIFAR-10 Batch 4:  Training Loss 1.28611\n",
      "Validation accuray 0.5232\n",
      "Epoch  3, CIFAR-10 Batch 5:  Training Loss 1.16589\n",
      "Validation accuray 0.5294\n",
      "Epoch  4, CIFAR-10 Batch 1:  Training Loss 1.15928\n",
      "Validation accuray 0.5444\n",
      "Epoch  4, CIFAR-10 Batch 2:  Training Loss 1.22413\n",
      "Validation accuray 0.5296\n",
      "Epoch  4, CIFAR-10 Batch 3:  Training Loss 0.90509\n",
      "Validation accuray 0.5578\n",
      "Epoch  4, CIFAR-10 Batch 4:  Training Loss 1.01903\n",
      "Validation accuray 0.5714\n",
      "Epoch  4, CIFAR-10 Batch 5:  Training Loss 0.969608\n",
      "Validation accuray 0.5804\n",
      "Epoch  5, CIFAR-10 Batch 1:  Training Loss 0.99685\n",
      "Validation accuray 0.5598\n",
      "Epoch  5, CIFAR-10 Batch 2:  Training Loss 1.03956\n",
      "Validation accuray 0.5812\n",
      "Epoch  5, CIFAR-10 Batch 3:  Training Loss 0.772904\n",
      "Validation accuray 0.5966\n",
      "Epoch  5, CIFAR-10 Batch 4:  Training Loss 0.964166\n",
      "Validation accuray 0.5944\n",
      "Epoch  5, CIFAR-10 Batch 5:  Training Loss 0.849535\n",
      "Validation accuray 0.5986\n",
      "Epoch  6, CIFAR-10 Batch 1:  Training Loss 0.823598\n",
      "Validation accuray 0.6146\n",
      "Epoch  6, CIFAR-10 Batch 2:  Training Loss 0.891342\n",
      "Validation accuray 0.611\n",
      "Epoch  6, CIFAR-10 Batch 3:  Training Loss 0.677952\n",
      "Validation accuray 0.6252\n",
      "Epoch  6, CIFAR-10 Batch 4:  Training Loss 0.805155\n",
      "Validation accuray 0.6268\n",
      "Epoch  6, CIFAR-10 Batch 5:  Training Loss 0.665526\n",
      "Validation accuray 0.6302\n",
      "Epoch  7, CIFAR-10 Batch 1:  Training Loss 0.682945\n",
      "Validation accuray 0.6376\n",
      "Epoch  7, CIFAR-10 Batch 2:  Training Loss 0.761821\n",
      "Validation accuray 0.6376\n",
      "Epoch  7, CIFAR-10 Batch 3:  Training Loss 0.524232\n",
      "Validation accuray 0.642\n",
      "Epoch  7, CIFAR-10 Batch 4:  Training Loss 0.618282\n",
      "Validation accuray 0.6586\n",
      "Epoch  7, CIFAR-10 Batch 5:  Training Loss 0.585985\n",
      "Validation accuray 0.6588\n",
      "Epoch  8, CIFAR-10 Batch 1:  Training Loss 0.624172\n",
      "Validation accuray 0.6516\n",
      "Epoch  8, CIFAR-10 Batch 2:  Training Loss 0.581806\n",
      "Validation accuray 0.653\n",
      "Epoch  8, CIFAR-10 Batch 3:  Training Loss 0.429985\n",
      "Validation accuray 0.65\n",
      "Epoch  8, CIFAR-10 Batch 4:  Training Loss 0.510689\n",
      "Validation accuray 0.6458\n",
      "Epoch  8, CIFAR-10 Batch 5:  Training Loss 0.511547\n",
      "Validation accuray 0.6658\n",
      "Epoch  9, CIFAR-10 Batch 1:  Training Loss 0.498336\n",
      "Validation accuray 0.6604\n",
      "Epoch  9, CIFAR-10 Batch 2:  Training Loss 0.464974\n",
      "Validation accuray 0.6666\n",
      "Epoch  9, CIFAR-10 Batch 3:  Training Loss 0.355365\n",
      "Validation accuray 0.662\n",
      "Epoch  9, CIFAR-10 Batch 4:  Training Loss 0.432111\n",
      "Validation accuray 0.6718\n",
      "Epoch  9, CIFAR-10 Batch 5:  Training Loss 0.404621\n",
      "Validation accuray 0.6764\n",
      "Epoch 10, CIFAR-10 Batch 1:  Training Loss 0.43159\n",
      "Validation accuray 0.6664\n",
      "Epoch 10, CIFAR-10 Batch 2:  Training Loss 0.45335\n",
      "Validation accuray 0.683\n",
      "Epoch 10, CIFAR-10 Batch 3:  Training Loss 0.297911\n",
      "Validation accuray 0.6772\n",
      "Epoch 10, CIFAR-10 Batch 4:  Training Loss 0.406083\n",
      "Validation accuray 0.683\n",
      "Epoch 10, CIFAR-10 Batch 5:  Training Loss 0.301263\n",
      "Validation accuray 0.6958\n",
      "Epoch 11, CIFAR-10 Batch 1:  Training Loss 0.385241\n",
      "Validation accuray 0.6688\n",
      "Epoch 11, CIFAR-10 Batch 2:  Training Loss 0.373338\n",
      "Validation accuray 0.6962\n",
      "Epoch 11, CIFAR-10 Batch 3:  Training Loss 0.250797\n",
      "Validation accuray 0.6774\n",
      "Epoch 11, CIFAR-10 Batch 4:  Training Loss 0.308716\n",
      "Validation accuray 0.692\n",
      "Epoch 11, CIFAR-10 Batch 5:  Training Loss 0.285589\n",
      "Validation accuray 0.6876\n",
      "Epoch 12, CIFAR-10 Batch 1:  Training Loss 0.30474\n",
      "Validation accuray 0.6764\n",
      "Epoch 12, CIFAR-10 Batch 2:  Training Loss 0.31883\n",
      "Validation accuray 0.6982\n",
      "Epoch 12, CIFAR-10 Batch 3:  Training Loss 0.22287\n",
      "Validation accuray 0.7004\n",
      "Epoch 12, CIFAR-10 Batch 4:  Training Loss 0.323392\n",
      "Validation accuray 0.6942\n",
      "Epoch 12, CIFAR-10 Batch 5:  Training Loss 0.22493\n",
      "Validation accuray 0.686\n",
      "Epoch 13, CIFAR-10 Batch 1:  Training Loss 0.278331\n",
      "Validation accuray 0.6858\n",
      "Epoch 13, CIFAR-10 Batch 2:  Training Loss 0.297549\n",
      "Validation accuray 0.6908\n",
      "Epoch 13, CIFAR-10 Batch 3:  Training Loss 0.14797\n",
      "Validation accuray 0.7134\n",
      "Epoch 13, CIFAR-10 Batch 4:  Training Loss 0.28783\n",
      "Validation accuray 0.7014\n",
      "Epoch 13, CIFAR-10 Batch 5:  Training Loss 0.224219\n",
      "Validation accuray 0.6996\n",
      "Epoch 14, CIFAR-10 Batch 1:  Training Loss 0.280913\n",
      "Validation accuray 0.7012\n",
      "Epoch 14, CIFAR-10 Batch 2:  Training Loss 0.236032\n",
      "Validation accuray 0.6952\n",
      "Epoch 14, CIFAR-10 Batch 3:  Training Loss 0.160153\n",
      "Validation accuray 0.702\n",
      "Epoch 14, CIFAR-10 Batch 4:  Training Loss 0.220542\n",
      "Validation accuray 0.699\n",
      "Epoch 14, CIFAR-10 Batch 5:  Training Loss 0.170728\n",
      "Validation accuray 0.7074\n",
      "Epoch 15, CIFAR-10 Batch 1:  Training Loss 0.186234\n",
      "Validation accuray 0.7028\n",
      "Epoch 15, CIFAR-10 Batch 2:  Training Loss 0.225391\n",
      "Validation accuray 0.6878\n",
      "Epoch 15, CIFAR-10 Batch 3:  Training Loss 0.124983\n",
      "Validation accuray 0.7094\n",
      "Epoch 15, CIFAR-10 Batch 4:  Training Loss 0.214211\n",
      "Validation accuray 0.6866\n",
      "Epoch 15, CIFAR-10 Batch 5:  Training Loss 0.150681\n",
      "Validation accuray 0.701\n",
      "Epoch 16, CIFAR-10 Batch 1:  Training Loss 0.166775\n",
      "Validation accuray 0.71\n",
      "Epoch 16, CIFAR-10 Batch 2:  Training Loss 0.195497\n",
      "Validation accuray 0.7048\n",
      "Epoch 16, CIFAR-10 Batch 3:  Training Loss 0.0874826\n",
      "Validation accuray 0.7058\n",
      "Epoch 16, CIFAR-10 Batch 4:  Training Loss 0.197371\n",
      "Validation accuray 0.6866\n",
      "Epoch 16, CIFAR-10 Batch 5:  Training Loss 0.104589\n",
      "Validation accuray 0.7038\n",
      "Epoch 17, CIFAR-10 Batch 1:  Training Loss 0.177531\n",
      "Validation accuray 0.706\n",
      "Epoch 17, CIFAR-10 Batch 2:  Training Loss 0.167538\n",
      "Validation accuray 0.7078\n",
      "Epoch 17, CIFAR-10 Batch 3:  Training Loss 0.0662471\n",
      "Validation accuray 0.7114\n",
      "Epoch 17, CIFAR-10 Batch 4:  Training Loss 0.101995\n",
      "Validation accuray 0.7028\n",
      "Epoch 17, CIFAR-10 Batch 5:  Training Loss 0.130668\n",
      "Validation accuray 0.6948\n",
      "Epoch 18, CIFAR-10 Batch 1:  Training Loss 0.169582\n",
      "Validation accuray 0.7032\n",
      "Epoch 18, CIFAR-10 Batch 2:  Training Loss 0.15337\n",
      "Validation accuray 0.7024\n",
      "Epoch 18, CIFAR-10 Batch 3:  Training Loss 0.0682924\n",
      "Validation accuray 0.708\n",
      "Epoch 18, CIFAR-10 Batch 4:  Training Loss 0.117562\n",
      "Validation accuray 0.7058\n",
      "Epoch 18, CIFAR-10 Batch 5:  Training Loss 0.0951407\n",
      "Validation accuray 0.6888\n",
      "Epoch 19, CIFAR-10 Batch 1:  Training Loss 0.131396\n",
      "Validation accuray 0.7118\n",
      "Epoch 19, CIFAR-10 Batch 2:  Training Loss 0.139326\n",
      "Validation accuray 0.7026\n",
      "Epoch 19, CIFAR-10 Batch 3:  Training Loss 0.0793587\n",
      "Validation accuray 0.7088\n",
      "Epoch 19, CIFAR-10 Batch 4:  Training Loss 0.109508\n",
      "Validation accuray 0.697\n",
      "Epoch 19, CIFAR-10 Batch 5:  Training Loss 0.0658383\n",
      "Validation accuray 0.7068\n",
      "Epoch 20, CIFAR-10 Batch 1:  Training Loss 0.129025\n",
      "Validation accuray 0.706\n",
      "Epoch 20, CIFAR-10 Batch 2:  Training Loss 0.102328\n",
      "Validation accuray 0.708\n",
      "Epoch 20, CIFAR-10 Batch 3:  Training Loss 0.0425049\n",
      "Validation accuray 0.7154\n",
      "Epoch 20, CIFAR-10 Batch 4:  Training Loss 0.0810982\n",
      "Validation accuray 0.7028\n",
      "Epoch 20, CIFAR-10 Batch 5:  Training Loss 0.0432496\n",
      "Validation accuray 0.7114\n",
      "Epoch 21, CIFAR-10 Batch 1:  Training Loss 0.10464\n",
      "Validation accuray 0.7018\n",
      "Epoch 21, CIFAR-10 Batch 2:  Training Loss 0.120237\n",
      "Validation accuray 0.713\n",
      "Epoch 21, CIFAR-10 Batch 3:  Training Loss 0.0675661\n",
      "Validation accuray 0.7032\n",
      "Epoch 21, CIFAR-10 Batch 4:  Training Loss 0.0639896\n",
      "Validation accuray 0.7074\n",
      "Epoch 21, CIFAR-10 Batch 5:  Training Loss 0.0442495\n",
      "Validation accuray 0.714\n",
      "Epoch 22, CIFAR-10 Batch 1:  Training Loss 0.0804561\n",
      "Validation accuray 0.717\n",
      "Epoch 22, CIFAR-10 Batch 2:  Training Loss 0.0772775\n",
      "Validation accuray 0.7102\n",
      "Epoch 22, CIFAR-10 Batch 3:  Training Loss 0.0433967\n",
      "Validation accuray 0.7104\n",
      "Epoch 22, CIFAR-10 Batch 4:  Training Loss 0.0693388\n",
      "Validation accuray 0.7054\n",
      "Epoch 22, CIFAR-10 Batch 5:  Training Loss 0.0451259\n",
      "Validation accuray 0.7098\n",
      "Epoch 23, CIFAR-10 Batch 1:  Training Loss 0.0905636\n",
      "Validation accuray 0.7032\n",
      "Epoch 23, CIFAR-10 Batch 2:  Training Loss 0.076212\n",
      "Validation accuray 0.715\n",
      "Epoch 23, CIFAR-10 Batch 3:  Training Loss 0.0373058\n",
      "Validation accuray 0.7046\n",
      "Epoch 23, CIFAR-10 Batch 4:  Training Loss 0.0508656\n",
      "Validation accuray 0.6996\n",
      "Epoch 23, CIFAR-10 Batch 5:  Training Loss 0.0277244\n",
      "Validation accuray 0.7086\n",
      "Epoch 24, CIFAR-10 Batch 1:  Training Loss 0.0728288\n",
      "Validation accuray 0.7004\n",
      "Epoch 24, CIFAR-10 Batch 2:  Training Loss 0.0499203\n",
      "Validation accuray 0.7066\n",
      "Epoch 24, CIFAR-10 Batch 3:  Training Loss 0.0281557\n",
      "Validation accuray 0.7114\n",
      "Epoch 24, CIFAR-10 Batch 4:  Training Loss 0.0438736\n",
      "Validation accuray 0.6968\n",
      "Epoch 24, CIFAR-10 Batch 5:  Training Loss 0.0203755\n",
      "Validation accuray 0.7152\n",
      "Epoch 25, CIFAR-10 Batch 1:  Training Loss 0.0549037\n",
      "Validation accuray 0.7136\n",
      "Epoch 25, CIFAR-10 Batch 2:  Training Loss 0.0467932\n",
      "Validation accuray 0.7214\n",
      "Epoch 25, CIFAR-10 Batch 3:  Training Loss 0.0165641\n",
      "Validation accuray 0.7188\n",
      "Epoch 25, CIFAR-10 Batch 4:  Training Loss 0.0275429\n",
      "Validation accuray 0.7106\n",
      "Epoch 25, CIFAR-10 Batch 5:  Training Loss 0.0331577\n",
      "Validation accuray 0.7096\n",
      "Epoch 26, CIFAR-10 Batch 1:  Training Loss 0.0677594\n",
      "Validation accuray 0.7112\n",
      "Epoch 26, CIFAR-10 Batch 2:  Training Loss 0.0374968\n",
      "Validation accuray 0.698\n",
      "Epoch 26, CIFAR-10 Batch 3:  Training Loss 0.0109886\n",
      "Validation accuray 0.7214\n",
      "Epoch 26, CIFAR-10 Batch 4:  Training Loss 0.0562509\n",
      "Validation accuray 0.7088\n",
      "Epoch 26, CIFAR-10 Batch 5:  Training Loss 0.0230026\n",
      "Validation accuray 0.7146\n",
      "Epoch 27, CIFAR-10 Batch 1:  Training Loss 0.0472487\n",
      "Validation accuray 0.706\n",
      "Epoch 27, CIFAR-10 Batch 2:  Training Loss 0.0277095\n",
      "Validation accuray 0.711\n",
      "Epoch 27, CIFAR-10 Batch 3:  Training Loss 0.0127191\n",
      "Validation accuray 0.7178\n",
      "Epoch 27, CIFAR-10 Batch 4:  Training Loss 0.057657\n",
      "Validation accuray 0.7028\n",
      "Epoch 27, CIFAR-10 Batch 5:  Training Loss 0.0205893\n",
      "Validation accuray 0.7142\n",
      "Epoch 28, CIFAR-10 Batch 1:  Training Loss 0.0491577\n",
      "Validation accuray 0.7146\n",
      "Epoch 28, CIFAR-10 Batch 2:  Training Loss 0.026765\n",
      "Validation accuray 0.7102\n",
      "Epoch 28, CIFAR-10 Batch 3:  Training Loss 0.0097588\n",
      "Validation accuray 0.7156\n",
      "Epoch 28, CIFAR-10 Batch 4:  Training Loss 0.0199553\n",
      "Validation accuray 0.7152\n",
      "Epoch 28, CIFAR-10 Batch 5:  Training Loss 0.0661096\n",
      "Validation accuray 0.707\n",
      "Epoch 29, CIFAR-10 Batch 1:  Training Loss 0.048909\n",
      "Validation accuray 0.703\n",
      "Epoch 29, CIFAR-10 Batch 2:  Training Loss 0.0239872\n",
      "Validation accuray 0.7058\n",
      "Epoch 29, CIFAR-10 Batch 3:  Training Loss 0.00876015\n",
      "Validation accuray 0.7152\n",
      "Epoch 29, CIFAR-10 Batch 4:  Training Loss 0.046253\n",
      "Validation accuray 0.697\n",
      "Epoch 29, CIFAR-10 Batch 5:  Training Loss 0.0218202\n",
      "Validation accuray 0.705\n",
      "Epoch 30, CIFAR-10 Batch 1:  Training Loss 0.0346802\n",
      "Validation accuray 0.7136\n",
      "Epoch 30, CIFAR-10 Batch 2:  Training Loss 0.0250076\n",
      "Validation accuray 0.7156\n",
      "Epoch 30, CIFAR-10 Batch 3:  Training Loss 0.0148634\n",
      "Validation accuray 0.7088\n",
      "Epoch 30, CIFAR-10 Batch 4:  Training Loss 0.0304149\n",
      "Validation accuray 0.7132\n",
      "Epoch 30, CIFAR-10 Batch 5:  Training Loss 0.0137088\n",
      "Validation accuray 0.7068\n",
      "Epoch 31, CIFAR-10 Batch 1:  Training Loss 0.0334946\n",
      "Validation accuray 0.71\n",
      "Epoch 31, CIFAR-10 Batch 2:  Training Loss 0.0164027\n",
      "Validation accuray 0.7156\n",
      "Epoch 31, CIFAR-10 Batch 3:  Training Loss 0.00755753\n",
      "Validation accuray 0.713\n",
      "Epoch 31, CIFAR-10 Batch 4:  Training Loss 0.0189967\n",
      "Validation accuray 0.7112\n",
      "Epoch 31, CIFAR-10 Batch 5:  Training Loss 0.0127326\n",
      "Validation accuray 0.7082\n",
      "Epoch 32, CIFAR-10 Batch 1:  Training Loss 0.0172411\n",
      "Validation accuray 0.719\n",
      "Epoch 32, CIFAR-10 Batch 2:  Training Loss 0.0166426\n",
      "Validation accuray 0.7164\n",
      "Epoch 32, CIFAR-10 Batch 3:  Training Loss 0.0119227\n",
      "Validation accuray 0.7058\n",
      "Epoch 32, CIFAR-10 Batch 4:  Training Loss 0.0565686\n",
      "Validation accuray 0.7202\n",
      "Epoch 32, CIFAR-10 Batch 5:  Training Loss 0.0115597\n",
      "Validation accuray 0.7082\n",
      "Epoch 33, CIFAR-10 Batch 1:  Training Loss 0.0253174\n",
      "Validation accuray 0.7114\n",
      "Epoch 33, CIFAR-10 Batch 2:  Training Loss 0.0103595\n",
      "Validation accuray 0.7216\n",
      "Epoch 33, CIFAR-10 Batch 3:  Training Loss 0.00809377\n",
      "Validation accuray 0.7202\n",
      "Epoch 33, CIFAR-10 Batch 4:  Training Loss 0.00990964\n",
      "Validation accuray 0.7176\n",
      "Epoch 33, CIFAR-10 Batch 5:  Training Loss 0.0220295\n",
      "Validation accuray 0.7036\n",
      "Epoch 34, CIFAR-10 Batch 1:  Training Loss 0.0158516\n",
      "Validation accuray 0.7172\n",
      "Epoch 34, CIFAR-10 Batch 2:  Training Loss 0.0157112\n",
      "Validation accuray 0.7092\n",
      "Epoch 34, CIFAR-10 Batch 3:  Training Loss 0.00837439\n",
      "Validation accuray 0.7164\n",
      "Epoch 34, CIFAR-10 Batch 4:  Training Loss 0.0182302\n",
      "Validation accuray 0.7118\n",
      "Epoch 34, CIFAR-10 Batch 5:  Training Loss 0.0386594\n",
      "Validation accuray 0.7058\n",
      "Epoch 35, CIFAR-10 Batch 1:  Training Loss 0.0247246\n",
      "Validation accuray 0.7052\n",
      "Epoch 35, CIFAR-10 Batch 2:  Training Loss 0.0238064\n",
      "Validation accuray 0.715\n",
      "Epoch 35, CIFAR-10 Batch 3:  Training Loss 0.018931\n",
      "Validation accuray 0.7174\n",
      "Epoch 35, CIFAR-10 Batch 4:  Training Loss 0.0137624\n",
      "Validation accuray 0.7178\n",
      "Epoch 35, CIFAR-10 Batch 5:  Training Loss 0.00625504\n",
      "Validation accuray 0.713\n",
      "Epoch 36, CIFAR-10 Batch 1:  Training Loss 0.0247654\n",
      "Validation accuray 0.7116\n",
      "Epoch 36, CIFAR-10 Batch 2:  Training Loss 0.0127201\n",
      "Validation accuray 0.7226\n",
      "Epoch 36, CIFAR-10 Batch 3:  Training Loss 0.00154321\n",
      "Validation accuray 0.723\n",
      "Epoch 36, CIFAR-10 Batch 4:  Training Loss 0.00526077\n",
      "Validation accuray 0.722\n",
      "Epoch 36, CIFAR-10 Batch 5:  Training Loss 0.00771612\n",
      "Validation accuray 0.7138\n",
      "Epoch 37, CIFAR-10 Batch 1:  Training Loss 0.00892466\n",
      "Validation accuray 0.7148\n",
      "Epoch 37, CIFAR-10 Batch 2:  Training Loss 0.00816363\n",
      "Validation accuray 0.7196\n",
      "Epoch 37, CIFAR-10 Batch 3:  Training Loss 0.00175785\n",
      "Validation accuray 0.7232\n",
      "Epoch 37, CIFAR-10 Batch 4:  Training Loss 0.00633334\n",
      "Validation accuray 0.7106\n",
      "Epoch 37, CIFAR-10 Batch 5:  Training Loss 0.00314449\n",
      "Validation accuray 0.7116\n",
      "Epoch 38, CIFAR-10 Batch 1:  Training Loss 0.0225903\n",
      "Validation accuray 0.723\n",
      "Epoch 38, CIFAR-10 Batch 2:  Training Loss 0.0138932\n",
      "Validation accuray 0.7206\n",
      "Epoch 38, CIFAR-10 Batch 3:  Training Loss 0.00127013\n",
      "Validation accuray 0.7252\n",
      "Epoch 38, CIFAR-10 Batch 4:  Training Loss 0.0106094\n",
      "Validation accuray 0.7162\n",
      "Epoch 38, CIFAR-10 Batch 5:  Training Loss 0.00445558\n",
      "Validation accuray 0.7106\n",
      "Epoch 39, CIFAR-10 Batch 1:  Training Loss 0.018584\n",
      "Validation accuray 0.7228\n",
      "Epoch 39, CIFAR-10 Batch 2:  Training Loss 0.013717\n",
      "Validation accuray 0.7186\n",
      "Epoch 39, CIFAR-10 Batch 3:  Training Loss 0.00436132\n",
      "Validation accuray 0.7128\n",
      "Epoch 39, CIFAR-10 Batch 4:  Training Loss 0.00651149\n",
      "Validation accuray 0.7186\n",
      "Epoch 39, CIFAR-10 Batch 5:  Training Loss 0.0063012\n",
      "Validation accuray 0.7136\n",
      "Epoch 40, CIFAR-10 Batch 1:  Training Loss 0.0353707\n",
      "Validation accuray 0.7168\n",
      "Epoch 40, CIFAR-10 Batch 2:  Training Loss 0.00542475\n",
      "Validation accuray 0.7128\n",
      "Epoch 40, CIFAR-10 Batch 3:  Training Loss 0.000564291\n",
      "Validation accuray 0.7266\n",
      "Epoch 40, CIFAR-10 Batch 4:  Training Loss 0.00428984\n",
      "Validation accuray 0.7156\n",
      "Epoch 40, CIFAR-10 Batch 5:  Training Loss 0.00301458\n",
      "Validation accuray 0.722\n",
      "Epoch 41, CIFAR-10 Batch 1:  Training Loss 0.195718\n",
      "Validation accuray 0.7048\n",
      "Epoch 41, CIFAR-10 Batch 2:  Training Loss 0.00565353\n",
      "Validation accuray 0.7182\n",
      "Epoch 41, CIFAR-10 Batch 3:  Training Loss 0.00847015\n",
      "Validation accuray 0.7214\n",
      "Epoch 41, CIFAR-10 Batch 4:  Training Loss 0.00190434\n",
      "Validation accuray 0.7108\n",
      "Epoch 41, CIFAR-10 Batch 5:  Training Loss 0.00525336\n",
      "Validation accuray 0.7156\n",
      "Epoch 42, CIFAR-10 Batch 1:  Training Loss 0.0176893\n",
      "Validation accuray 0.7172\n",
      "Epoch 42, CIFAR-10 Batch 2:  Training Loss 0.00575123\n",
      "Validation accuray 0.7146\n",
      "Epoch 42, CIFAR-10 Batch 3:  Training Loss 0.00163132\n",
      "Validation accuray 0.7198\n",
      "Epoch 42, CIFAR-10 Batch 4:  Training Loss 0.0083399\n",
      "Validation accuray 0.7126\n",
      "Epoch 42, CIFAR-10 Batch 5:  Training Loss 0.00618814\n",
      "Validation accuray 0.7156\n",
      "Epoch 43, CIFAR-10 Batch 1:  Training Loss 0.0106954\n",
      "Validation accuray 0.7078\n",
      "Epoch 43, CIFAR-10 Batch 2:  Training Loss 0.004584\n",
      "Validation accuray 0.7162\n",
      "Epoch 43, CIFAR-10 Batch 3:  Training Loss 0.00490621\n",
      "Validation accuray 0.7184\n",
      "Epoch 43, CIFAR-10 Batch 4:  Training Loss 0.0046051\n",
      "Validation accuray 0.7094\n",
      "Epoch 43, CIFAR-10 Batch 5:  Training Loss 0.00284579\n",
      "Validation accuray 0.7094\n",
      "Epoch 44, CIFAR-10 Batch 1:  Training Loss 0.0363441\n",
      "Validation accuray 0.7026\n",
      "Epoch 44, CIFAR-10 Batch 2:  Training Loss 0.0229444\n",
      "Validation accuray 0.7244\n",
      "Epoch 44, CIFAR-10 Batch 3:  Training Loss 0.0025161\n",
      "Validation accuray 0.7258\n",
      "Epoch 44, CIFAR-10 Batch 4:  Training Loss 0.000978189\n",
      "Validation accuray 0.7222\n",
      "Epoch 44, CIFAR-10 Batch 5:  Training Loss 0.00692215\n",
      "Validation accuray 0.7072\n",
      "Epoch 45, CIFAR-10 Batch 1:  Training Loss 0.0131112\n",
      "Validation accuray 0.7174\n",
      "Epoch 45, CIFAR-10 Batch 2:  Training Loss 0.00455081\n",
      "Validation accuray 0.7194\n",
      "Epoch 45, CIFAR-10 Batch 3:  Training Loss 0.00287326\n",
      "Validation accuray 0.722\n",
      "Epoch 45, CIFAR-10 Batch 4:  Training Loss 0.00810244\n",
      "Validation accuray 0.7194\n",
      "Epoch 45, CIFAR-10 Batch 5:  Training Loss 0.0135545\n",
      "Validation accuray 0.7192\n",
      "Epoch 46, CIFAR-10 Batch 1:  Training Loss 0.0200413\n",
      "Validation accuray 0.7208\n",
      "Epoch 46, CIFAR-10 Batch 2:  Training Loss 0.0169549\n",
      "Validation accuray 0.711\n",
      "Epoch 46, CIFAR-10 Batch 3:  Training Loss 0.000634083\n",
      "Validation accuray 0.7232\n",
      "Epoch 46, CIFAR-10 Batch 4:  Training Loss 0.00144007\n",
      "Validation accuray 0.7224\n",
      "Epoch 46, CIFAR-10 Batch 5:  Training Loss 0.00173086\n",
      "Validation accuray 0.7216\n",
      "Epoch 47, CIFAR-10 Batch 1:  Training Loss 0.00712148\n",
      "Validation accuray 0.7132\n",
      "Epoch 47, CIFAR-10 Batch 2:  Training Loss 0.0115622\n",
      "Validation accuray 0.7244\n",
      "Epoch 47, CIFAR-10 Batch 3:  Training Loss 0.00276418\n",
      "Validation accuray 0.7264\n",
      "Epoch 47, CIFAR-10 Batch 4:  Training Loss 0.000479635\n",
      "Validation accuray 0.7094\n",
      "Epoch 47, CIFAR-10 Batch 5:  Training Loss 0.00677131\n",
      "Validation accuray 0.7174\n",
      "Epoch 48, CIFAR-10 Batch 1:  Training Loss 0.0101502\n",
      "Validation accuray 0.7106\n",
      "Epoch 48, CIFAR-10 Batch 2:  Training Loss 0.00292385\n",
      "Validation accuray 0.7176\n",
      "Epoch 48, CIFAR-10 Batch 3:  Training Loss 0.0137936\n",
      "Validation accuray 0.7208\n",
      "Epoch 48, CIFAR-10 Batch 4:  Training Loss 0.000564636\n",
      "Validation accuray 0.7244\n",
      "Epoch 48, CIFAR-10 Batch 5:  Training Loss 0.00740003\n",
      "Validation accuray 0.72\n",
      "Epoch 49, CIFAR-10 Batch 1:  Training Loss 0.000881804\n",
      "Validation accuray 0.7186\n",
      "Epoch 49, CIFAR-10 Batch 2:  Training Loss 0.00194668\n",
      "Validation accuray 0.723\n",
      "Epoch 49, CIFAR-10 Batch 3:  Training Loss 0.00397441\n",
      "Validation accuray 0.7186\n",
      "Epoch 49, CIFAR-10 Batch 4:  Training Loss 0.0015047\n",
      "Validation accuray 0.7148\n",
      "Epoch 49, CIFAR-10 Batch 5:  Training Loss 0.000636152\n",
      "Validation accuray 0.7246\n",
      "Epoch 50, CIFAR-10 Batch 1:  Training Loss 0.00853782\n",
      "Validation accuray 0.7098\n",
      "Epoch 50, CIFAR-10 Batch 2:  Training Loss 0.00516267\n",
      "Validation accuray 0.7104\n",
      "Epoch 50, CIFAR-10 Batch 3:  Training Loss 0.000805389\n",
      "Validation accuray 0.7212\n",
      "Epoch 50, CIFAR-10 Batch 4:  Training Loss 0.0014688\n",
      "Validation accuray 0.7228\n",
      "Epoch 50, CIFAR-10 Batch 5:  Training Loss 0.0141524\n",
      "Validation accuray 0.7266\n"
     ]
    }
   ],
   "source": [
    "\"\"\"\n",
    "DON'T MODIFY ANYTHING IN THIS CELL\n",
    "\"\"\"\n",
    "save_model_path = './image_classification'\n",
    "\n",
    "print('Training...')\n",
    "with tf.Session() as sess:\n",
    "    # Initializing the variables\n",
    "    sess.run(tf.global_variables_initializer())\n",
    "    \n",
    "    # Training cycle\n",
    "    for epoch in range(epochs):\n",
    "        # Loop over all batches\n",
    "        n_batches = 5\n",
    "        for batch_i in range(1, n_batches + 1):\n",
    "            for batch_features, batch_labels in helper.load_preprocess_training_batch(batch_i, batch_size):\n",
    "                train_neural_network(sess, optimizer, keep_probability, batch_features, batch_labels)\n",
    "            print('Epoch {:>2}, CIFAR-10 Batch {}:  '.format(epoch + 1, batch_i), end='')\n",
    "            print_stats(sess, batch_features, batch_labels, cost, accuracy)\n",
    "            \n",
    "    # Save Model\n",
    "    saver = tf.train.Saver()\n",
    "    save_path = saver.save(sess, save_model_path)"
   ]
  },
  {
   "cell_type": "markdown",
   "metadata": {
    "deletable": true,
    "editable": true
   },
   "source": [
    "# Checkpoint\n",
    "The model has been saved to disk.\n",
    "## Test Model\n",
    "Test your model against the test dataset.  This will be your final accuracy. You should have an accuracy greater than 50%. If you don't, keep tweaking the model architecture and parameters."
   ]
  },
  {
   "cell_type": "code",
   "execution_count": 51,
   "metadata": {
    "collapsed": false,
    "deletable": true,
    "editable": true
   },
   "outputs": [
    {
     "name": "stdout",
     "output_type": "stream",
     "text": [
      "Testing Accuracy: 0.7128164556962026\n",
      "\n"
     ]
    },
    {
     "data": {
      "image/png": "[encoded data removed]",
      "text/plain": [
       "<matplotlib.figure.Figure at 0x7efface2af60>"
      ]
     },
     "metadata": {
      "image/png": {
       "height": 319,
       "width": 355
      }
     },
     "output_type": "display_data"
    }
   ],
   "source": [
    "\"\"\"\n",
    "DON'T MODIFY ANYTHING IN THIS CELL\n",
    "\"\"\"\n",
    "%matplotlib inline\n",
    "%config InlineBackend.figure_format = 'retina'\n",
    "\n",
    "import tensorflow as tf\n",
    "import pickle\n",
    "import helper\n",
    "import random\n",
    "\n",
    "# Set batch size if not already set\n",
    "try:\n",
    "    if batch_size:\n",
    "        pass\n",
    "except NameError:\n",
    "    batch_size = 64\n",
    "\n",
    "save_model_path = './image_classification'\n",
    "n_samples = 4\n",
    "top_n_predictions = 3\n",
    "\n",
    "def test_model():\n",
    "    \"\"\"\n",
    "    Test the saved model against the test dataset\n",
    "    \"\"\"\n",
    "\n",
    "    test_features, test_labels = pickle.load(open('preprocess_test.p', mode='rb'))\n",
    "    loaded_graph = tf.Graph()\n",
    "\n",
    "    with tf.Session(graph=loaded_graph) as sess:\n",
    "        # Load model\n",
    "        loader = tf.train.import_meta_graph(save_model_path + '.meta')\n",
    "        loader.restore(sess, save_model_path)\n",
    "\n",
    "        # Get Tensors from loaded model\n",
    "        loaded_x = loaded_graph.get_tensor_by_name('x:0')\n",
    "        loaded_y = loaded_graph.get_tensor_by_name('y:0')\n",
    "        loaded_keep_prob = loaded_graph.get_tensor_by_name('keep_prob:0')\n",
    "        loaded_logits = loaded_graph.get_tensor_by_name('logits:0')\n",
    "        loaded_acc = loaded_graph.get_tensor_by_name('accuracy:0')\n",
    "        \n",
    "        # Get accuracy in batches for memory limitations\n",
    "        test_batch_acc_total = 0\n",
    "        test_batch_count = 0\n",
    "        \n",
    "        for test_feature_batch, test_label_batch in helper.batch_features_labels(test_features, test_labels, batch_size):\n",
    "            test_batch_acc_total += sess.run(\n",
    "                loaded_acc,\n",
    "                feed_dict={loaded_x: test_feature_batch, loaded_y: test_label_batch, loaded_keep_prob: 1.0})\n",
    "            test_batch_count += 1\n",
    "\n",
    "        print('Testing Accuracy: {}\\n'.format(test_batch_acc_total/test_batch_count))\n",
    "\n",
    "        # Print Random Samples\n",
    "        random_test_features, random_test_labels = tuple(zip(*random.sample(list(zip(test_features, test_labels)), n_samples)))\n",
    "        random_test_predictions = sess.run(\n",
    "            tf.nn.top_k(tf.nn.softmax(loaded_logits), top_n_predictions),\n",
    "            feed_dict={loaded_x: random_test_features, loaded_y: random_test_labels, loaded_keep_prob: 1.0})\n",
    "        helper.display_image_predictions(random_test_features, random_test_labels, random_test_predictions)\n",
    "\n",
    "\n",
    "test_model()"
   ]
  },
  {
   "cell_type": "markdown",
   "metadata": {
    "deletable": true,
    "editable": true
   },
   "source": [
    "## Why 50-80% Accuracy?\n",
    "You might be wondering why you can't get an accuracy any higher. First things first, 50% isn't bad for a simple CNN.  Pure guessing would get you 10% accuracy. However, you might notice people are getting scores [well above 80%](http://rodrigob.github.io/are_we_there_yet/build/classification_datasets_results.html#43494641522d3130).  That's because we haven't taught you all there is to know about neural networks. We still need to cover a few more techniques.\n",
    "## Submitting This Project\n",
    "When submitting this project, make sure to run all the cells before saving the notebook.  Save the notebook file as \"dlnd_image_classification.ipynb\" and save it as a HTML file under \"File\" -> \"Download as\".  Include the \"helper.py\" and \"problem_unittests.py\" files in your submission."
   ]
  },
  {
   "cell_type": "code",
   "execution_count": null,
   "metadata": {
    "collapsed": true
   },
   "outputs": [],
   "source": []
  }
 ],
 "metadata": {
  "kernelspec": {
   "display_name": "Python 3",
   "language": "python",
   "name": "python3"
  },
  "language_info": {
   "codemirror_mode": {
    "name": "ipython",
    "version": 3
   },
   "file_extension": ".py",
   "mimetype": "text/x-python",
   "name": "python",
   "nbconvert_exporter": "python",
   "pygments_lexer": "ipython3",
   "version": "3.5.2"
  },
  "widgets": {
   "state": {},
   "version": "1.1.2"
  }
 },
 "nbformat": 4,
 "nbformat_minor": 0
}
