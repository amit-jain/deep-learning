{
 "cells": [
  {
   "cell_type": "markdown",
   "metadata": {
    "deletable": true,
    "editable": true
   },
   "source": [
    "# TV Script Generation\n",
    "In this project, you'll generate your own [Simpsons](https://en.wikipedia.org/wiki/The_Simpsons) TV scripts using RNNs.  You'll be using part of the [Simpsons dataset](https://www.kaggle.com/wcukierski/the-simpsons-by-the-data) of scripts from 27 seasons.  The Neural Network you'll build will generate a new TV script for a scene at [Moe's Tavern](https://simpsonswiki.com/wiki/Moe's_Tavern).\n",
    "## Get the Data\n",
    "The data is already provided for you.  You'll be using a subset of the original dataset.  It consists of only the scenes in Moe's Tavern.  This doesn't include other versions of the tavern, like \"Moe's Cavern\", \"Flaming Moe's\", \"Uncle Moe's Family Feed-Bag\", etc.."
   ]
  },
  {
   "cell_type": "code",
   "execution_count": 1,
   "metadata": {
    "collapsed": false,
    "deletable": true,
    "editable": true
   },
   "outputs": [],
   "source": [
    "\"\"\"\n",
    "DON'T MODIFY ANYTHING IN THIS CELL\n",
    "\"\"\"\n",
    "import helper\n",
    "\n",
    "data_dir = './data/simpsons/moes_tavern_lines.txt'\n",
    "text = helper.load_data(data_dir)\n",
    "# Ignore notice, since we don't use it for analysing the data\n",
    "text = text[81:]"
   ]
  },
  {
   "cell_type": "markdown",
   "metadata": {
    "deletable": true,
    "editable": true
   },
   "source": [
    "## Explore the Data\n",
    "Play around with `view_sentence_range` to view different parts of the data."
   ]
  },
  {
   "cell_type": "code",
   "execution_count": 2,
   "metadata": {
    "collapsed": false,
    "deletable": true,
    "editable": true
   },
   "outputs": [
    {
     "name": "stdout",
     "output_type": "stream",
     "text": [
      "Dataset Stats\n",
      "Roughly the number of unique words: 11492\n",
      "Number of scenes: 262\n",
      "Average number of sentences in each scene: 15.248091603053435\n",
      "Number of lines: 4257\n",
      "Average number of words in each line: 11.50434578341555\n",
      "\n",
      "The sentences 0 to 10:\n",
      "Moe_Szyslak: (INTO PHONE) Moe's Tavern. Where the elite meet to drink.\n",
      "Bart_Simpson: Eh, yeah, hello, is Mike there? Last name, Rotch.\n",
      "Moe_Szyslak: (INTO PHONE) Hold on, I'll check. (TO BARFLIES) Mike Rotch. Mike Rotch. Hey, has anybody seen Mike Rotch, lately?\n",
      "Moe_Szyslak: (INTO PHONE) Listen you little puke. One of these days I'm gonna catch you, and I'm gonna carve my name on your back with an ice pick.\n",
      "Moe_Szyslak: What's the matter Homer? You're not your normal effervescent self.\n",
      "Homer_Simpson: I got my problems, Moe. Give me another one.\n",
      "Moe_Szyslak: Homer, hey, you should not drink to forget your problems.\n",
      "Barney_Gumble: Yeah, you should only drink to enhance your social skills.\n",
      "\n",
      "\n"
     ]
    }
   ],
   "source": [
    "view_sentence_range = (0, 10)\n",
    "\n",
    "\"\"\"\n",
    "DON'T MODIFY ANYTHING IN THIS CELL\n",
    "\"\"\"\n",
    "import numpy as np\n",
    "\n",
    "print('Dataset Stats')\n",
    "print('Roughly the number of unique words: {}'.format(len({word: None for word in text.split()})))\n",
    "scenes = text.split('\\n\\n')\n",
    "print('Number of scenes: {}'.format(len(scenes)))\n",
    "sentence_count_scene = [scene.count('\\n') for scene in scenes]\n",
    "print('Average number of sentences in each scene: {}'.format(np.average(sentence_count_scene)))\n",
    "\n",
    "sentences = [sentence for scene in scenes for sentence in scene.split('\\n')]\n",
    "print('Number of lines: {}'.format(len(sentences)))\n",
    "word_count_sentence = [len(sentence.split()) for sentence in sentences]\n",
    "print('Average number of words in each line: {}'.format(np.average(word_count_sentence)))\n",
    "\n",
    "print()\n",
    "print('The sentences {} to {}:'.format(*view_sentence_range))\n",
    "print('\\n'.join(text.split('\\n')[view_sentence_range[0]:view_sentence_range[1]]))"
   ]
  },
  {
   "cell_type": "markdown",
   "metadata": {
    "deletable": true,
    "editable": true
   },
   "source": [
    "## Implement Preprocessing Functions\n",
    "The first thing to do to any dataset is preprocessing.  Implement the following preprocessing functions below:\n",
    "- Lookup Table\n",
    "- Tokenize Punctuation\n",
    "\n",
    "### Lookup Table\n",
    "To create a word embedding, you first need to transform the words to ids.  In this function, create two dictionaries:\n",
    "- Dictionary to go from the words to an id, we'll call `vocab_to_int`\n",
    "- Dictionary to go from the id to word, we'll call `int_to_vocab`\n",
    "\n",
    "Return these dictionaries in the following tuple `(vocab_to_int, int_to_vocab)`"
   ]
  },
  {
   "cell_type": "code",
   "execution_count": 3,
   "metadata": {
    "collapsed": false,
    "deletable": true,
    "editable": true
   },
   "outputs": [
    {
     "name": "stdout",
     "output_type": "stream",
     "text": [
      "Tests Passed\n"
     ]
    }
   ],
   "source": [
    "import numpy as np\n",
    "import problem_unittests as tests\n",
    "from collections import Counter\n",
    " \n",
    "def create_lookup_tables(text):\n",
    "    \"\"\"\n",
    "    Create lookup tables for vocabulary\n",
    "    :param text: The text of tv scripts split into words\n",
    "    :return: A tuple of dicts (vocab_to_int, int_to_vocab)\n",
    "    \"\"\"\n",
    "    counts = Counter(text)\n",
    "    sorted_counts = sorted(counts, key=counts.get, reverse=True)\n",
    "    vocab_to_int = {word:idx for idx, word in enumerate(sorted_counts)}\n",
    "    int_to_vocab = {idx:word for idx, word in enumerate(sorted_counts)}\n",
    "    return vocab_to_int, int_to_vocab\n",
    "\n",
    "\n",
    "\"\"\"\n",
    "DON'T MODIFY ANYTHING IN THIS CELL THAT IS BELOW THIS LINE\n",
    "\"\"\"\n",
    "tests.test_create_lookup_tables(create_lookup_tables)"
   ]
  },
  {
   "cell_type": "markdown",
   "metadata": {
    "deletable": true,
    "editable": true
   },
   "source": [
    "### Tokenize Punctuation\n",
    "We'll be splitting the script into a word array using spaces as delimiters.  However, punctuations like periods and exclamation marks make it hard for the neural network to distinguish between the word \"bye\" and \"bye!\".\n",
    "\n",
    "Implement the function `token_lookup` to return a dict that will be used to tokenize symbols like \"!\" into \"||Exclamation_Mark||\".  Create a dictionary for the following symbols where the symbol is the key and value is the token:\n",
    "- Period ( . )\n",
    "- Comma ( , )\n",
    "- Quotation Mark ( \" )\n",
    "- Semicolon ( ; )\n",
    "- Exclamation mark ( ! )\n",
    "- Question mark ( ? )\n",
    "- Left Parentheses ( ( )\n",
    "- Right Parentheses ( ) )\n",
    "- Dash ( -- )\n",
    "- Return ( \\n )\n",
    "\n",
    "This dictionary will be used to token the symbols and add the delimiter (space) around it.  This separates the symbols as it's own word, making it easier for the neural network to predict on the next word. Make sure you don't use a token that could be confused as a word. Instead of using the token \"dash\", try using something like \"||dash||\"."
   ]
  },
  {
   "cell_type": "code",
   "execution_count": 4,
   "metadata": {
    "collapsed": false,
    "deletable": true,
    "editable": true
   },
   "outputs": [
    {
     "name": "stdout",
     "output_type": "stream",
     "text": [
      "Tests Passed\n"
     ]
    }
   ],
   "source": [
    "def token_lookup():\n",
    "    \"\"\"\n",
    "    Generate a dict to turn punctuation into a token.\n",
    "    :return: Tokenize dictionary where the key is the punctuation and the value is the token\n",
    "    \"\"\"\n",
    "    token_dict = {}\n",
    "    token_dict['.'] = '||dot||'\n",
    "    token_dict[','] = '||comma||'\n",
    "    token_dict['\"'] = '||quotation_mark||'\n",
    "    token_dict[';'] = '||semicolon||'\n",
    "    token_dict['!'] = '||exclamation_mark||'\n",
    "    token_dict['?'] = '||question_mark||'\n",
    "    token_dict['('] = '||left_parentheses||'\n",
    "    token_dict[')'] = '||right_parentheses||'\n",
    "    token_dict['--'] = '||dash||'\n",
    "    token_dict['\\n'] = '||return||'    \n",
    "    return token_dict\n",
    "\n",
    "\"\"\"\n",
    "DON'T MODIFY ANYTHING IN THIS CELL THAT IS BELOW THIS LINE\n",
    "\"\"\"\n",
    "tests.test_tokenize(token_lookup)"
   ]
  },
  {
   "cell_type": "markdown",
   "metadata": {
    "deletable": true,
    "editable": true
   },
   "source": [
    "## Preprocess all the data and save it\n",
    "Running the code cell below will preprocess all the data and save it to file."
   ]
  },
  {
   "cell_type": "code",
   "execution_count": 5,
   "metadata": {
    "collapsed": false,
    "deletable": true,
    "editable": true
   },
   "outputs": [],
   "source": [
    "\"\"\"\n",
    "DON'T MODIFY ANYTHING IN THIS CELL\n",
    "\"\"\"\n",
    "# Preprocess Training, Validation, and Testing Data\n",
    "helper.preprocess_and_save_data(data_dir, token_lookup, create_lookup_tables)"
   ]
  },
  {
   "cell_type": "markdown",
   "metadata": {
    "deletable": true,
    "editable": true
   },
   "source": [
    "# Check Point\n",
    "This is your first checkpoint. If you ever decide to come back to this notebook or have to restart the notebook, you can start from here. The preprocessed data has been saved to disk."
   ]
  },
  {
   "cell_type": "code",
   "execution_count": 6,
   "metadata": {
    "collapsed": false,
    "deletable": true,
    "editable": true
   },
   "outputs": [],
   "source": [
    "\"\"\"\n",
    "DON'T MODIFY ANYTHING IN THIS CELL\n",
    "\"\"\"\n",
    "import helper\n",
    "import numpy as np\n",
    "import problem_unittests as tests\n",
    "\n",
    "int_text, vocab_to_int, int_to_vocab, token_dict = helper.load_preprocess()"
   ]
  },
  {
   "cell_type": "markdown",
   "metadata": {
    "deletable": true,
    "editable": true
   },
   "source": [
    "## Build the Neural Network\n",
    "You'll build the components necessary to build a RNN by implementing the following functions below:\n",
    "- get_inputs\n",
    "- get_init_cell\n",
    "- get_embed\n",
    "- build_rnn\n",
    "- build_nn\n",
    "- get_batches\n",
    "\n",
    "### Check the Version of TensorFlow and Access to GPU"
   ]
  },
  {
   "cell_type": "code",
   "execution_count": 7,
   "metadata": {
    "collapsed": false,
    "deletable": true,
    "editable": true
   },
   "outputs": [
    {
     "name": "stdout",
     "output_type": "stream",
     "text": [
      "TensorFlow Version: 1.0.0\n",
      "Default GPU Device: /gpu:0\n"
     ]
    }
   ],
   "source": [
    "\"\"\"\n",
    "DON'T MODIFY ANYTHING IN THIS CELL\n",
    "\"\"\"\n",
    "from distutils.version import LooseVersion\n",
    "import warnings\n",
    "import tensorflow as tf\n",
    "\n",
    "# Check TensorFlow Version\n",
    "assert LooseVersion(tf.__version__) >= LooseVersion('1.0'), 'Please use TensorFlow version 1.0 or newer'\n",
    "print('TensorFlow Version: {}'.format(tf.__version__))\n",
    "\n",
    "# Check for a GPU\n",
    "if not tf.test.gpu_device_name():\n",
    "    warnings.warn('No GPU found. Please use a GPU to train your neural network.')\n",
    "else:\n",
    "    print('Default GPU Device: {}'.format(tf.test.gpu_device_name()))"
   ]
  },
  {
   "cell_type": "markdown",
   "metadata": {
    "deletable": true,
    "editable": true
   },
   "source": [
    "### Input\n",
    "Implement the `get_inputs()` function to create TF Placeholders for the Neural Network.  It should create the following placeholders:\n",
    "- Input text placeholder named \"input\" using the [TF Placeholder](https://www.tensorflow.org/api_docs/python/tf/placeholder) `name` parameter.\n",
    "- Targets placeholder\n",
    "- Learning Rate placeholder\n",
    "\n",
    "Return the placeholders in the following the tuple `(Input, Targets, LearingRate)`"
   ]
  },
  {
   "cell_type": "code",
   "execution_count": 8,
   "metadata": {
    "collapsed": false,
    "deletable": true,
    "editable": true
   },
   "outputs": [
    {
     "name": "stdout",
     "output_type": "stream",
     "text": [
      "Tests Passed\n"
     ]
    }
   ],
   "source": [
    "def get_inputs():\n",
    "    \"\"\"\n",
    "    Create TF Placeholders for input, targets, and learning rate.\n",
    "    :return: Tuple (input, targets, learning rate)\n",
    "    \"\"\"\n",
    "    return tf.placeholder(tf.int32, [None, None], name='input'), \\\n",
    "            tf.placeholder(tf.int32, [None, None], name='target'), \\\n",
    "            tf.placeholder(tf.float32, name='learn_rate')\n",
    "\n",
    "\n",
    "\"\"\"\n",
    "DON'T MODIFY ANYTHING IN THIS CELL THAT IS BELOW THIS LINE\n",
    "\"\"\"\n",
    "tests.test_get_inputs(get_inputs)"
   ]
  },
  {
   "cell_type": "markdown",
   "metadata": {
    "deletable": true,
    "editable": true
   },
   "source": [
    "### Build RNN Cell and Initialize\n",
    "Stack one or more [`BasicLSTMCells`](https://www.tensorflow.org/api_docs/python/tf/contrib/rnn/BasicLSTMCell) in a [`MultiRNNCell`](https://www.tensorflow.org/api_docs/python/tf/contrib/rnn/MultiRNNCell).\n",
    "- The Rnn size should be set using `rnn_size`\n",
    "- Initalize Cell State using the MultiRNNCell's [`zero_state()`](https://www.tensorflow.org/api_docs/python/tf/contrib/rnn/MultiRNNCell#zero_state) function\n",
    "    - Apply the name \"initial_state\" to the initial state using [`tf.identity()`](https://www.tensorflow.org/api_docs/python/tf/identity)\n",
    "\n",
    "Return the cell and initial state in the following tuple `(Cell, InitialState)`"
   ]
  },
  {
   "cell_type": "code",
   "execution_count": 9,
   "metadata": {
    "collapsed": false,
    "deletable": true,
    "editable": true
   },
   "outputs": [
    {
     "name": "stdout",
     "output_type": "stream",
     "text": [
      "Tests Passed\n"
     ]
    }
   ],
   "source": [
    "def get_init_cell(batch_size, rnn_size):\n",
    "    \"\"\"\n",
    "    Create an RNN Cell and initialize it.\n",
    "    :param batch_size: Size of batches\n",
    "    :param rnn_size: Size of RNNs\n",
    "    :return: Tuple (cell, initialize state)\n",
    "    \"\"\"\n",
    "    # Basic LSTM cell\n",
    "    lstm = tf.contrib.rnn.BasicLSTMCell(rnn_size)\n",
    "    \n",
    "    # Stack up multiple LSTM layers, for deep learning\n",
    "    cell = tf.contrib.rnn.MultiRNNCell([lstm] * 3)\n",
    "    \n",
    "    # Getting an initial state of all zeros\n",
    "    initial_state = tf.identity(cell.zero_state(batch_size, tf.float32), name='initial_state')\n",
    "    return cell, initial_state\n",
    "\n",
    "\n",
    "\"\"\"\n",
    "DON'T MODIFY ANYTHING IN THIS CELL THAT IS BELOW THIS LINE\n",
    "\"\"\"\n",
    "tests.test_get_init_cell(get_init_cell)"
   ]
  },
  {
   "cell_type": "markdown",
   "metadata": {
    "deletable": true,
    "editable": true
   },
   "source": [
    "### Word Embedding\n",
    "Apply embedding to `input_data` using TensorFlow.  Return the embedded sequence."
   ]
  },
  {
   "cell_type": "code",
   "execution_count": 10,
   "metadata": {
    "collapsed": false,
    "deletable": true,
    "editable": true
   },
   "outputs": [
    {
     "name": "stdout",
     "output_type": "stream",
     "text": [
      "Tests Passed\n"
     ]
    }
   ],
   "source": [
    "def get_embed(input_data, vocab_size, embed_dim):\n",
    "    \"\"\"\n",
    "    Create embedding for <input_data>.\n",
    "    :param input_data: TF placeholder for text input.\n",
    "    :param vocab_size: Number of words in vocabulary.\n",
    "    :param embed_dim: Number of embedding dimensions\n",
    "    :return: Embedded input.\n",
    "    \"\"\"\n",
    "    embedding = tf.Variable(tf.random_uniform((vocab_size, embed_dim), -1, 1))\n",
    "    embed = tf.nn.embedding_lookup(embedding, input_data)\n",
    "\n",
    "    return embed\n",
    "\n",
    "\n",
    "\"\"\"\n",
    "DON'T MODIFY ANYTHING IN THIS CELL THAT IS BELOW THIS LINE\n",
    "\"\"\"\n",
    "tests.test_get_embed(get_embed)"
   ]
  },
  {
   "cell_type": "markdown",
   "metadata": {
    "deletable": true,
    "editable": true
   },
   "source": [
    "### Build RNN\n",
    "You created a RNN Cell in the `get_init_cell()` function.  Time to use the cell to create a RNN.\n",
    "- Build the RNN using the [`tf.nn.dynamic_rnn()`](https://www.tensorflow.org/api_docs/python/tf/nn/dynamic_rnn)\n",
    " - Apply the name \"final_state\" to the final state using [`tf.identity()`](https://www.tensorflow.org/api_docs/python/tf/identity)\n",
    "\n",
    "Return the outputs and final_state state in the following tuple `(Outputs, FinalState)` "
   ]
  },
  {
   "cell_type": "code",
   "execution_count": 11,
   "metadata": {
    "collapsed": false,
    "deletable": true,
    "editable": true
   },
   "outputs": [
    {
     "name": "stdout",
     "output_type": "stream",
     "text": [
      "Tests Passed\n"
     ]
    }
   ],
   "source": [
    "def build_rnn(cell, inputs):\n",
    "    \"\"\"\n",
    "    Create a RNN using a RNN Cell\n",
    "    :param cell: RNN Cell\n",
    "    :param inputs: Input text data\n",
    "    :return: Tuple (Outputs, Final State)\n",
    "    \"\"\"\n",
    "    outputs, final_state = tf.nn.dynamic_rnn(cell, inputs, dtype=tf.float32)\n",
    "    return outputs, tf.identity(final_state, name='final_state')\n",
    "\n",
    "\n",
    "\"\"\"\n",
    "DON'T MODIFY ANYTHING IN THIS CELL THAT IS BELOW THIS LINE\n",
    "\"\"\"\n",
    "tests.test_build_rnn(build_rnn)"
   ]
  },
  {
   "cell_type": "markdown",
   "metadata": {
    "deletable": true,
    "editable": true
   },
   "source": [
    "### Build the Neural Network\n",
    "Apply the functions you implemented above to:\n",
    "- Apply embedding to `input_data` using your `get_embed(input_data, vocab_size, embed_dim)` function.\n",
    "- Build RNN using `cell` and your `build_rnn(cell, inputs)` function.\n",
    "- Apply a fully connected layer with a linear activation and `vocab_size` as the number of outputs.\n",
    "\n",
    "Return the logits and final state in the following tuple (Logits, FinalState) "
   ]
  },
  {
   "cell_type": "code",
   "execution_count": 12,
   "metadata": {
    "collapsed": false,
    "deletable": true,
    "editable": true
   },
   "outputs": [
    {
     "name": "stdout",
     "output_type": "stream",
     "text": [
      "Tests Passed\n"
     ]
    }
   ],
   "source": [
    "def build_nn(cell, rnn_size, input_data, vocab_size):\n",
    "    \"\"\"\n",
    "    Build part of the neural network\n",
    "    :param cell: RNN cell\n",
    "    :param rnn_size: Size of rnns\n",
    "    :param input_data: Input data\n",
    "    :param vocab_size: Vocabulary size\n",
    "    :return: Tuple (Logits, FinalState)\n",
    "    \"\"\"\n",
    "    embeds = get_embed(input_data, vocab_size, 300)\n",
    "    outputs, final_state = build_rnn(cell, embeds)\n",
    "    logits = tf.contrib.layers.fully_connected(outputs, vocab_size, activation_fn=None, \\\n",
    "                                               weights_initializer = tf.truncated_normal_initializer(stddev=0.1), \\\n",
    "                                               biases_initializer=tf.zeros_initializer())\n",
    "    return logits, final_state\n",
    "\n",
    "\n",
    "\"\"\"\n",
    "DON'T MODIFY ANYTHING IN THIS CELL THAT IS BELOW THIS LINE\n",
    "\"\"\"\n",
    "tests.test_build_nn(build_nn)"
   ]
  },
  {
   "cell_type": "markdown",
   "metadata": {
    "deletable": true,
    "editable": true
   },
   "source": [
    "### Batches\n",
    "Implement `get_batches` to create batches of input and targets using `int_text`.  The batches should be a Numpy array with the shape `(number of batches, 2, batch size, sequence length)`. Each batch contains two elements:\n",
    "- The first element is a single batch of **input** with the shape `[batch size, sequence length]`\n",
    "- The second element is a single batch of **targets** with the shape `[batch size, sequence length]`\n",
    "\n",
    "If you can't fill the last batch with enough data, drop the last batch.\n",
    "\n",
    "For exmple, `get_batches([1, 2, 3, 4, 5, 6, 7, 8, 9, 10, 11, 12, 13, 14, 15], 2, 3)` would return a Numpy array of the following:\n",
    "```\n",
    "[\n",
    "  # First Batch\n",
    "  [\n",
    "    # Batch of Input\n",
    "    [[ 1  2  3], [ 7  8  9]],\n",
    "    # Batch of targets\n",
    "    [[ 2  3  4], [ 8  9 10]]\n",
    "  ],\n",
    " \n",
    "  # Second Batch\n",
    "  [\n",
    "    # Batch of Input\n",
    "    [[ 4  5  6], [10 11 12]],\n",
    "    # Batch of targets\n",
    "    [[ 5  6  7], [11 12 13]]\n",
    "  ]\n",
    "]\n",
    "```"
   ]
  },
  {
   "cell_type": "code",
   "execution_count": 13,
   "metadata": {
    "collapsed": false,
    "deletable": true,
    "editable": true
   },
   "outputs": [
    {
     "name": "stdout",
     "output_type": "stream",
     "text": [
      "Tests Passed\n"
     ]
    }
   ],
   "source": [
    "def get_batches(int_text, batch_size, seq_length):\n",
    "    \"\"\"\n",
    "    Return batches of input and target\n",
    "    :param int_text: Text with the words replaced by their ids\n",
    "    :param batch_size: The size of batch\n",
    "    :param seq_length: The length of sequence\n",
    "    :return: Batches as a Numpy array\n",
    "    \"\"\"\n",
    "    n_batches = (len(int_text) // (batch_size * seq_length))\n",
    "    x = np.array(int_text[:n_batches * batch_size * seq_length])\n",
    "    x = np.split(x.reshape(batch_size, -1), n_batches, axis = 1)\n",
    "\n",
    "    y = np.array(int_text[1:n_batches * batch_size * seq_length + 1])\n",
    "    y = np.split(y.reshape(batch_size, -1), n_batches, axis = 1)\n",
    "    \n",
    "    return np.array(list(zip(x, y)))\n",
    "\n",
    "#get_batches([1, 2, 3, 4, 5, 6, 7, 8, 9, 10, 11, 12, 13, 14, 15], 2, 3)\n",
    "\"\"\"\n",
    "DON'T MODIFY ANYTHING IN THIS CELL THAT IS BELOW THIS LINE\n",
    "\"\"\"\n",
    "tests.test_get_batches(get_batches)"
   ]
  },
  {
   "cell_type": "markdown",
   "metadata": {
    "deletable": true,
    "editable": true
   },
   "source": [
    "## Neural Network Training\n",
    "### Hyperparameters\n",
    "Tune the following parameters:\n",
    "\n",
    "- Set `num_epochs` to the number of epochs.\n",
    "- Set `batch_size` to the batch size.\n",
    "- Set `rnn_size` to the size of the RNNs.\n",
    "- Set `seq_length` to the length of sequence.\n",
    "- Set `learning_rate` to the learning rate.\n",
    "- Set `show_every_n_batches` to the number of batches the neural network should print progress."
   ]
  },
  {
   "cell_type": "code",
   "execution_count": 14,
   "metadata": {
    "collapsed": true,
    "deletable": true,
    "editable": true
   },
   "outputs": [],
   "source": [
    "# Number of Epochs\n",
    "num_epochs = 100\n",
    "# Batch Size\n",
    "batch_size = 128\n",
    "# RNN Size\n",
    "rnn_size = 256\n",
    "# Sequence Length\n",
    "seq_length = 10\n",
    "# Learning Rate\n",
    "learning_rate = 0.01\n",
    "# Show stats for every n number of batches\n",
    "show_every_n_batches = 10\n",
    "\n",
    "\"\"\"\n",
    "DON'T MODIFY ANYTHING IN THIS CELL THAT IS BELOW THIS LINE\n",
    "\"\"\"\n",
    "save_dir = './save'"
   ]
  },
  {
   "cell_type": "markdown",
   "metadata": {
    "deletable": true,
    "editable": true
   },
   "source": [
    "### Build the Graph\n",
    "Build the graph using the neural network you implemented."
   ]
  },
  {
   "cell_type": "code",
   "execution_count": 15,
   "metadata": {
    "collapsed": false,
    "deletable": true,
    "editable": true
   },
   "outputs": [],
   "source": [
    "\"\"\"\n",
    "DON'T MODIFY ANYTHING IN THIS CELL\n",
    "\"\"\"\n",
    "from tensorflow.contrib import seq2seq\n",
    "\n",
    "train_graph = tf.Graph()\n",
    "with train_graph.as_default():\n",
    "    vocab_size = len(int_to_vocab)\n",
    "    input_text, targets, lr = get_inputs()\n",
    "    input_data_shape = tf.shape(input_text)\n",
    "    cell, initial_state = get_init_cell(input_data_shape[0], rnn_size)\n",
    "    logits, final_state = build_nn(cell, rnn_size, input_text, vocab_size)\n",
    "\n",
    "    # Probabilities for generating words\n",
    "    probs = tf.nn.softmax(logits, name='probs')\n",
    "\n",
    "    # Loss function\n",
    "    cost = seq2seq.sequence_loss(\n",
    "        logits,\n",
    "        targets,\n",
    "        tf.ones([input_data_shape[0], input_data_shape[1]]))\n",
    "\n",
    "    # Optimizer\n",
    "    optimizer = tf.train.AdamOptimizer(lr)\n",
    "\n",
    "    # Gradient Clipping\n",
    "    gradients = optimizer.compute_gradients(cost)\n",
    "    capped_gradients = [(tf.clip_by_value(grad, -1., 1.), var) for grad, var in gradients]\n",
    "    train_op = optimizer.apply_gradients(capped_gradients)"
   ]
  },
  {
   "cell_type": "markdown",
   "metadata": {
    "deletable": true,
    "editable": true
   },
   "source": [
    "## Train\n",
    "Train the neural network on the preprocessed data.  If you have a hard time getting a good loss, check the [forms](https://discussions.udacity.com/) to see if anyone is having the same problem."
   ]
  },
  {
   "cell_type": "code",
   "execution_count": 16,
   "metadata": {
    "collapsed": false,
    "deletable": true,
    "editable": true
   },
   "outputs": [
    {
     "name": "stdout",
     "output_type": "stream",
     "text": [
      "Epoch   0 Batch    0/53   train_loss = 8.823\n",
      "Epoch   0 Batch   10/53   train_loss = 6.476\n",
      "Epoch   0 Batch   20/53   train_loss = 6.433\n",
      "Epoch   0 Batch   30/53   train_loss = 6.148\n",
      "Epoch   0 Batch   40/53   train_loss = 6.073\n",
      "Epoch   0 Batch   50/53   train_loss = 5.869\n",
      "Epoch   1 Batch    7/53   train_loss = 5.771\n",
      "Epoch   1 Batch   17/53   train_loss = 5.551\n",
      "Epoch   1 Batch   27/53   train_loss = 5.503\n",
      "Epoch   1 Batch   37/53   train_loss = 5.214\n",
      "Epoch   1 Batch   47/53   train_loss = 5.086\n",
      "Epoch   2 Batch    4/53   train_loss = 5.051\n",
      "Epoch   2 Batch   14/53   train_loss = 5.077\n",
      "Epoch   2 Batch   24/53   train_loss = 4.980\n",
      "Epoch   2 Batch   34/53   train_loss = 4.846\n",
      "Epoch   2 Batch   44/53   train_loss = 4.826\n",
      "Epoch   3 Batch    1/53   train_loss = 4.766\n",
      "Epoch   3 Batch   11/53   train_loss = 4.667\n",
      "Epoch   3 Batch   21/53   train_loss = 4.898\n",
      "Epoch   3 Batch   31/53   train_loss = 4.638\n",
      "Epoch   3 Batch   41/53   train_loss = 4.556\n",
      "Epoch   3 Batch   51/53   train_loss = 4.682\n",
      "Epoch   4 Batch    8/53   train_loss = 4.580\n",
      "Epoch   4 Batch   18/53   train_loss = 4.609\n",
      "Epoch   4 Batch   28/53   train_loss = 4.400\n",
      "Epoch   4 Batch   38/53   train_loss = 4.399\n",
      "Epoch   4 Batch   48/53   train_loss = 4.584\n",
      "Epoch   5 Batch    5/53   train_loss = 4.497\n",
      "Epoch   5 Batch   15/53   train_loss = 4.510\n",
      "Epoch   5 Batch   25/53   train_loss = 4.518\n",
      "Epoch   5 Batch   35/53   train_loss = 4.364\n",
      "Epoch   5 Batch   45/53   train_loss = 4.283\n",
      "Epoch   6 Batch    2/53   train_loss = 4.329\n",
      "Epoch   6 Batch   12/53   train_loss = 4.216\n",
      "Epoch   6 Batch   22/53   train_loss = 4.226\n",
      "Epoch   6 Batch   32/53   train_loss = 4.168\n",
      "Epoch   6 Batch   42/53   train_loss = 4.215\n",
      "Epoch   6 Batch   52/53   train_loss = 4.135\n",
      "Epoch   7 Batch    9/53   train_loss = 4.405\n",
      "Epoch   7 Batch   19/53   train_loss = 4.085\n",
      "Epoch   7 Batch   29/53   train_loss = 4.199\n",
      "Epoch   7 Batch   39/53   train_loss = 4.093\n",
      "Epoch   7 Batch   49/53   train_loss = 4.193\n",
      "Epoch   8 Batch    6/53   train_loss = 4.050\n",
      "Epoch   8 Batch   16/53   train_loss = 4.071\n",
      "Epoch   8 Batch   26/53   train_loss = 4.137\n",
      "Epoch   8 Batch   36/53   train_loss = 3.994\n",
      "Epoch   8 Batch   46/53   train_loss = 4.077\n",
      "Epoch   9 Batch    3/53   train_loss = 3.934\n",
      "Epoch   9 Batch   13/53   train_loss = 4.085\n",
      "Epoch   9 Batch   23/53   train_loss = 4.164\n",
      "Epoch   9 Batch   33/53   train_loss = 3.926\n",
      "Epoch   9 Batch   43/53   train_loss = 3.837\n",
      "Epoch  10 Batch    0/53   train_loss = 4.096\n",
      "Epoch  10 Batch   10/53   train_loss = 3.908\n",
      "Epoch  10 Batch   20/53   train_loss = 4.112\n",
      "Epoch  10 Batch   30/53   train_loss = 4.017\n",
      "Epoch  10 Batch   40/53   train_loss = 3.936\n",
      "Epoch  10 Batch   50/53   train_loss = 3.898\n",
      "Epoch  11 Batch    7/53   train_loss = 4.083\n",
      "Epoch  11 Batch   17/53   train_loss = 3.804\n",
      "Epoch  11 Batch   27/53   train_loss = 3.887\n",
      "Epoch  11 Batch   37/53   train_loss = 3.761\n",
      "Epoch  11 Batch   47/53   train_loss = 3.725\n",
      "Epoch  12 Batch    4/53   train_loss = 3.773\n",
      "Epoch  12 Batch   14/53   train_loss = 3.731\n",
      "Epoch  12 Batch   24/53   train_loss = 3.649\n",
      "Epoch  12 Batch   34/53   train_loss = 3.615\n",
      "Epoch  12 Batch   44/53   train_loss = 3.723\n",
      "Epoch  13 Batch    1/53   train_loss = 3.567\n",
      "Epoch  13 Batch   11/53   train_loss = 3.592\n",
      "Epoch  13 Batch   21/53   train_loss = 3.616\n",
      "Epoch  13 Batch   31/53   train_loss = 3.474\n",
      "Epoch  13 Batch   41/53   train_loss = 3.478\n",
      "Epoch  13 Batch   51/53   train_loss = 3.566\n",
      "Epoch  14 Batch    8/53   train_loss = 3.466\n",
      "Epoch  14 Batch   18/53   train_loss = 3.557\n",
      "Epoch  14 Batch   28/53   train_loss = 3.303\n",
      "Epoch  14 Batch   38/53   train_loss = 3.392\n",
      "Epoch  14 Batch   48/53   train_loss = 3.438\n",
      "Epoch  15 Batch    5/53   train_loss = 3.549\n",
      "Epoch  15 Batch   15/53   train_loss = 3.459\n",
      "Epoch  15 Batch   25/53   train_loss = 3.464\n",
      "Epoch  15 Batch   35/53   train_loss = 3.308\n",
      "Epoch  15 Batch   45/53   train_loss = 3.330\n",
      "Epoch  16 Batch    2/53   train_loss = 3.351\n",
      "Epoch  16 Batch   12/53   train_loss = 3.320\n",
      "Epoch  16 Batch   22/53   train_loss = 3.239\n",
      "Epoch  16 Batch   32/53   train_loss = 3.152\n",
      "Epoch  16 Batch   42/53   train_loss = 3.148\n",
      "Epoch  16 Batch   52/53   train_loss = 3.227\n",
      "Epoch  17 Batch    9/53   train_loss = 3.301\n",
      "Epoch  17 Batch   19/53   train_loss = 3.158\n",
      "Epoch  17 Batch   29/53   train_loss = 3.144\n",
      "Epoch  17 Batch   39/53   train_loss = 3.137\n",
      "Epoch  17 Batch   49/53   train_loss = 3.166\n",
      "Epoch  18 Batch    6/53   train_loss = 3.127\n",
      "Epoch  18 Batch   16/53   train_loss = 3.088\n",
      "Epoch  18 Batch   26/53   train_loss = 3.003\n",
      "Epoch  18 Batch   36/53   train_loss = 3.008\n",
      "Epoch  18 Batch   46/53   train_loss = 3.012\n",
      "Epoch  19 Batch    3/53   train_loss = 3.032\n",
      "Epoch  19 Batch   13/53   train_loss = 3.106\n",
      "Epoch  19 Batch   23/53   train_loss = 3.029\n",
      "Epoch  19 Batch   33/53   train_loss = 2.886\n",
      "Epoch  19 Batch   43/53   train_loss = 2.837\n",
      "Epoch  20 Batch    0/53   train_loss = 2.944\n",
      "Epoch  20 Batch   10/53   train_loss = 2.823\n",
      "Epoch  20 Batch   20/53   train_loss = 2.958\n",
      "Epoch  20 Batch   30/53   train_loss = 2.850\n",
      "Epoch  20 Batch   40/53   train_loss = 2.793\n",
      "Epoch  20 Batch   50/53   train_loss = 2.887\n",
      "Epoch  21 Batch    7/53   train_loss = 2.919\n",
      "Epoch  21 Batch   17/53   train_loss = 2.725\n",
      "Epoch  21 Batch   27/53   train_loss = 2.727\n",
      "Epoch  21 Batch   37/53   train_loss = 2.642\n",
      "Epoch  21 Batch   47/53   train_loss = 2.700\n",
      "Epoch  22 Batch    4/53   train_loss = 2.711\n",
      "Epoch  22 Batch   14/53   train_loss = 2.663\n",
      "Epoch  22 Batch   24/53   train_loss = 2.564\n",
      "Epoch  22 Batch   34/53   train_loss = 2.576\n",
      "Epoch  22 Batch   44/53   train_loss = 2.620\n",
      "Epoch  23 Batch    1/53   train_loss = 2.445\n",
      "Epoch  23 Batch   11/53   train_loss = 2.581\n",
      "Epoch  23 Batch   21/53   train_loss = 2.498\n",
      "Epoch  23 Batch   31/53   train_loss = 2.494\n",
      "Epoch  23 Batch   41/53   train_loss = 2.462\n",
      "Epoch  23 Batch   51/53   train_loss = 2.481\n",
      "Epoch  24 Batch    8/53   train_loss = 2.400\n",
      "Epoch  24 Batch   18/53   train_loss = 2.578\n",
      "Epoch  24 Batch   28/53   train_loss = 2.423\n",
      "Epoch  24 Batch   38/53   train_loss = 2.415\n",
      "Epoch  24 Batch   48/53   train_loss = 2.320\n",
      "Epoch  25 Batch    5/53   train_loss = 2.419\n",
      "Epoch  25 Batch   15/53   train_loss = 2.390\n",
      "Epoch  25 Batch   25/53   train_loss = 2.449\n",
      "Epoch  25 Batch   35/53   train_loss = 2.312\n",
      "Epoch  25 Batch   45/53   train_loss = 2.348\n",
      "Epoch  26 Batch    2/53   train_loss = 2.455\n",
      "Epoch  26 Batch   12/53   train_loss = 2.399\n",
      "Epoch  26 Batch   22/53   train_loss = 2.311\n",
      "Epoch  26 Batch   32/53   train_loss = 2.162\n",
      "Epoch  26 Batch   42/53   train_loss = 2.143\n",
      "Epoch  26 Batch   52/53   train_loss = 2.321\n",
      "Epoch  27 Batch    9/53   train_loss = 2.181\n",
      "Epoch  27 Batch   19/53   train_loss = 2.257\n",
      "Epoch  27 Batch   29/53   train_loss = 2.299\n",
      "Epoch  27 Batch   39/53   train_loss = 2.141\n",
      "Epoch  27 Batch   49/53   train_loss = 2.185\n",
      "Epoch  28 Batch    6/53   train_loss = 2.123\n",
      "Epoch  28 Batch   16/53   train_loss = 2.116\n",
      "Epoch  28 Batch   26/53   train_loss = 2.042\n",
      "Epoch  28 Batch   36/53   train_loss = 2.141\n",
      "Epoch  28 Batch   46/53   train_loss = 2.113\n",
      "Epoch  29 Batch    3/53   train_loss = 2.109\n",
      "Epoch  29 Batch   13/53   train_loss = 2.124\n",
      "Epoch  29 Batch   23/53   train_loss = 2.135\n",
      "Epoch  29 Batch   33/53   train_loss = 2.087\n",
      "Epoch  29 Batch   43/53   train_loss = 2.075\n",
      "Epoch  30 Batch    0/53   train_loss = 2.025\n",
      "Epoch  30 Batch   10/53   train_loss = 1.931\n",
      "Epoch  30 Batch   20/53   train_loss = 1.980\n",
      "Epoch  30 Batch   30/53   train_loss = 2.035\n",
      "Epoch  30 Batch   40/53   train_loss = 2.031\n",
      "Epoch  30 Batch   50/53   train_loss = 2.069\n",
      "Epoch  31 Batch    7/53   train_loss = 2.049\n",
      "Epoch  31 Batch   17/53   train_loss = 1.834\n",
      "Epoch  31 Batch   27/53   train_loss = 2.008\n",
      "Epoch  31 Batch   37/53   train_loss = 1.920\n",
      "Epoch  31 Batch   47/53   train_loss = 2.002\n",
      "Epoch  32 Batch    4/53   train_loss = 1.957\n",
      "Epoch  32 Batch   14/53   train_loss = 1.833\n",
      "Epoch  32 Batch   24/53   train_loss = 1.768\n",
      "Epoch  32 Batch   34/53   train_loss = 1.867\n",
      "Epoch  32 Batch   44/53   train_loss = 1.898\n",
      "Epoch  33 Batch    1/53   train_loss = 1.790\n",
      "Epoch  33 Batch   11/53   train_loss = 1.867\n",
      "Epoch  33 Batch   21/53   train_loss = 1.707\n",
      "Epoch  33 Batch   31/53   train_loss = 1.803\n",
      "Epoch  33 Batch   41/53   train_loss = 1.834\n",
      "Epoch  33 Batch   51/53   train_loss = 1.744\n",
      "Epoch  34 Batch    8/53   train_loss = 1.752\n",
      "Epoch  34 Batch   18/53   train_loss = 1.830\n",
      "Epoch  34 Batch   28/53   train_loss = 1.795\n",
      "Epoch  34 Batch   38/53   train_loss = 1.754\n",
      "Epoch  34 Batch   48/53   train_loss = 1.633\n",
      "Epoch  35 Batch    5/53   train_loss = 1.798\n",
      "Epoch  35 Batch   15/53   train_loss = 1.674\n",
      "Epoch  35 Batch   25/53   train_loss = 1.716\n",
      "Epoch  35 Batch   35/53   train_loss = 1.654\n",
      "Epoch  35 Batch   45/53   train_loss = 1.764\n",
      "Epoch  36 Batch    2/53   train_loss = 1.774\n",
      "Epoch  36 Batch   12/53   train_loss = 1.691\n",
      "Epoch  36 Batch   22/53   train_loss = 1.662\n",
      "Epoch  36 Batch   32/53   train_loss = 1.513\n",
      "Epoch  36 Batch   42/53   train_loss = 1.558\n",
      "Epoch  36 Batch   52/53   train_loss = 1.696\n",
      "Epoch  37 Batch    9/53   train_loss = 1.523\n",
      "Epoch  37 Batch   19/53   train_loss = 1.567\n",
      "Epoch  37 Batch   29/53   train_loss = 1.572\n",
      "Epoch  37 Batch   39/53   train_loss = 1.494\n",
      "Epoch  37 Batch   49/53   train_loss = 1.545\n",
      "Epoch  38 Batch    6/53   train_loss = 1.577\n",
      "Epoch  38 Batch   16/53   train_loss = 1.481\n",
      "Epoch  38 Batch   26/53   train_loss = 1.345\n",
      "Epoch  38 Batch   36/53   train_loss = 1.518\n",
      "Epoch  38 Batch   46/53   train_loss = 1.517\n",
      "Epoch  39 Batch    3/53   train_loss = 1.438\n",
      "Epoch  39 Batch   13/53   train_loss = 1.562\n",
      "Epoch  39 Batch   23/53   train_loss = 1.416\n",
      "Epoch  39 Batch   33/53   train_loss = 1.475\n",
      "Epoch  39 Batch   43/53   train_loss = 1.535\n",
      "Epoch  40 Batch    0/53   train_loss = 1.486\n",
      "Epoch  40 Batch   10/53   train_loss = 1.408\n",
      "Epoch  40 Batch   20/53   train_loss = 1.424\n",
      "Epoch  40 Batch   30/53   train_loss = 1.446\n",
      "Epoch  40 Batch   40/53   train_loss = 1.354\n",
      "Epoch  40 Batch   50/53   train_loss = 1.476\n",
      "Epoch  41 Batch    7/53   train_loss = 1.443\n",
      "Epoch  41 Batch   17/53   train_loss = 1.364\n",
      "Epoch  41 Batch   27/53   train_loss = 1.395\n",
      "Epoch  41 Batch   37/53   train_loss = 1.390\n",
      "Epoch  41 Batch   47/53   train_loss = 1.481\n",
      "Epoch  42 Batch    4/53   train_loss = 1.422\n",
      "Epoch  42 Batch   14/53   train_loss = 1.397\n",
      "Epoch  42 Batch   24/53   train_loss = 1.324\n",
      "Epoch  42 Batch   34/53   train_loss = 1.359\n",
      "Epoch  42 Batch   44/53   train_loss = 1.456\n",
      "Epoch  43 Batch    1/53   train_loss = 1.327\n",
      "Epoch  43 Batch   11/53   train_loss = 1.437\n",
      "Epoch  43 Batch   21/53   train_loss = 1.260\n",
      "Epoch  43 Batch   31/53   train_loss = 1.327\n",
      "Epoch  43 Batch   41/53   train_loss = 1.335\n",
      "Epoch  43 Batch   51/53   train_loss = 1.333\n",
      "Epoch  44 Batch    8/53   train_loss = 1.311\n",
      "Epoch  44 Batch   18/53   train_loss = 1.352\n",
      "Epoch  44 Batch   28/53   train_loss = 1.377\n",
      "Epoch  44 Batch   38/53   train_loss = 1.335\n",
      "Epoch  44 Batch   48/53   train_loss = 1.294\n",
      "Epoch  45 Batch    5/53   train_loss = 1.442\n",
      "Epoch  45 Batch   15/53   train_loss = 1.292\n",
      "Epoch  45 Batch   25/53   train_loss = 1.344\n",
      "Epoch  45 Batch   35/53   train_loss = 1.276\n",
      "Epoch  45 Batch   45/53   train_loss = 1.340\n",
      "Epoch  46 Batch    2/53   train_loss = 1.459\n",
      "Epoch  46 Batch   12/53   train_loss = 1.315\n",
      "Epoch  46 Batch   22/53   train_loss = 1.317\n",
      "Epoch  46 Batch   32/53   train_loss = 1.150\n",
      "Epoch  46 Batch   42/53   train_loss = 1.269\n",
      "Epoch  46 Batch   52/53   train_loss = 1.375\n",
      "Epoch  47 Batch    9/53   train_loss = 1.216\n",
      "Epoch  47 Batch   19/53   train_loss = 1.271\n",
      "Epoch  47 Batch   29/53   train_loss = 1.266\n",
      "Epoch  47 Batch   39/53   train_loss = 1.230\n",
      "Epoch  47 Batch   49/53   train_loss = 1.275\n",
      "Epoch  48 Batch    6/53   train_loss = 1.313\n",
      "Epoch  48 Batch   16/53   train_loss = 1.210\n",
      "Epoch  48 Batch   26/53   train_loss = 1.112\n",
      "Epoch  48 Batch   36/53   train_loss = 1.263\n",
      "Epoch  48 Batch   46/53   train_loss = 1.279\n",
      "Epoch  49 Batch    3/53   train_loss = 1.224\n",
      "Epoch  49 Batch   13/53   train_loss = 1.227\n",
      "Epoch  49 Batch   23/53   train_loss = 1.181\n",
      "Epoch  49 Batch   33/53   train_loss = 1.225\n",
      "Epoch  49 Batch   43/53   train_loss = 1.245\n",
      "Epoch  50 Batch    0/53   train_loss = 1.238\n",
      "Epoch  50 Batch   10/53   train_loss = 1.226\n",
      "Epoch  50 Batch   20/53   train_loss = 1.172\n",
      "Epoch  50 Batch   30/53   train_loss = 1.156\n",
      "Epoch  50 Batch   40/53   train_loss = 1.143\n",
      "Epoch  50 Batch   50/53   train_loss = 1.150\n",
      "Epoch  51 Batch    7/53   train_loss = 1.158\n",
      "Epoch  51 Batch   17/53   train_loss = 1.124\n",
      "Epoch  51 Batch   27/53   train_loss = 1.114\n",
      "Epoch  51 Batch   37/53   train_loss = 1.151\n",
      "Epoch  51 Batch   47/53   train_loss = 1.188\n",
      "Epoch  52 Batch    4/53   train_loss = 1.190\n",
      "Epoch  52 Batch   14/53   train_loss = 1.092\n",
      "Epoch  52 Batch   24/53   train_loss = 1.063\n",
      "Epoch  52 Batch   34/53   train_loss = 1.115\n",
      "Epoch  52 Batch   44/53   train_loss = 1.144\n",
      "Epoch  53 Batch    1/53   train_loss = 1.073\n",
      "Epoch  53 Batch   11/53   train_loss = 1.216\n",
      "Epoch  53 Batch   21/53   train_loss = 1.008\n",
      "Epoch  53 Batch   31/53   train_loss = 1.077\n",
      "Epoch  53 Batch   41/53   train_loss = 1.111\n",
      "Epoch  53 Batch   51/53   train_loss = 1.060\n",
      "Epoch  54 Batch    8/53   train_loss = 1.094\n",
      "Epoch  54 Batch   18/53   train_loss = 1.093\n",
      "Epoch  54 Batch   28/53   train_loss = 1.086\n",
      "Epoch  54 Batch   38/53   train_loss = 1.099\n",
      "Epoch  54 Batch   48/53   train_loss = 0.982\n",
      "Epoch  55 Batch    5/53   train_loss = 1.108\n",
      "Epoch  55 Batch   15/53   train_loss = 1.065\n",
      "Epoch  55 Batch   25/53   train_loss = 1.046\n",
      "Epoch  55 Batch   35/53   train_loss = 0.996\n",
      "Epoch  55 Batch   45/53   train_loss = 1.104\n",
      "Epoch  56 Batch    2/53   train_loss = 1.139\n",
      "Epoch  56 Batch   12/53   train_loss = 1.047\n",
      "Epoch  56 Batch   22/53   train_loss = 1.066\n",
      "Epoch  56 Batch   32/53   train_loss = 0.959\n",
      "Epoch  56 Batch   42/53   train_loss = 0.962\n",
      "Epoch  56 Batch   52/53   train_loss = 1.096\n",
      "Epoch  57 Batch    9/53   train_loss = 0.952\n",
      "Epoch  57 Batch   19/53   train_loss = 1.026\n",
      "Epoch  57 Batch   29/53   train_loss = 0.984\n",
      "Epoch  57 Batch   39/53   train_loss = 0.970\n",
      "Epoch  57 Batch   49/53   train_loss = 0.998\n",
      "Epoch  58 Batch    6/53   train_loss = 0.983\n",
      "Epoch  58 Batch   16/53   train_loss = 0.975\n",
      "Epoch  58 Batch   26/53   train_loss = 0.854\n",
      "Epoch  58 Batch   36/53   train_loss = 1.008\n",
      "Epoch  58 Batch   46/53   train_loss = 1.022\n",
      "Epoch  59 Batch    3/53   train_loss = 1.002\n",
      "Epoch  59 Batch   13/53   train_loss = 0.997\n",
      "Epoch  59 Batch   23/53   train_loss = 0.991\n",
      "Epoch  59 Batch   33/53   train_loss = 0.982\n",
      "Epoch  59 Batch   43/53   train_loss = 0.957\n",
      "Epoch  60 Batch    0/53   train_loss = 0.946\n",
      "Epoch  60 Batch   10/53   train_loss = 0.950\n",
      "Epoch  60 Batch   20/53   train_loss = 0.972\n",
      "Epoch  60 Batch   30/53   train_loss = 0.928\n",
      "Epoch  60 Batch   40/53   train_loss = 0.922\n",
      "Epoch  60 Batch   50/53   train_loss = 0.980\n",
      "Epoch  61 Batch    7/53   train_loss = 0.924\n",
      "Epoch  61 Batch   17/53   train_loss = 0.944\n",
      "Epoch  61 Batch   27/53   train_loss = 0.924\n",
      "Epoch  61 Batch   37/53   train_loss = 0.952\n",
      "Epoch  61 Batch   47/53   train_loss = 0.956\n",
      "Epoch  62 Batch    4/53   train_loss = 0.937\n",
      "Epoch  62 Batch   14/53   train_loss = 0.966\n",
      "Epoch  62 Batch   24/53   train_loss = 0.889\n",
      "Epoch  62 Batch   34/53   train_loss = 0.897\n",
      "Epoch  62 Batch   44/53   train_loss = 0.910\n",
      "Epoch  63 Batch    1/53   train_loss = 0.901\n",
      "Epoch  63 Batch   11/53   train_loss = 0.937\n",
      "Epoch  63 Batch   21/53   train_loss = 0.889\n",
      "Epoch  63 Batch   31/53   train_loss = 0.870\n",
      "Epoch  63 Batch   41/53   train_loss = 0.914\n",
      "Epoch  63 Batch   51/53   train_loss = 0.898\n",
      "Epoch  64 Batch    8/53   train_loss = 0.842\n",
      "Epoch  64 Batch   18/53   train_loss = 0.945\n",
      "Epoch  64 Batch   28/53   train_loss = 0.910\n",
      "Epoch  64 Batch   38/53   train_loss = 0.910\n",
      "Epoch  64 Batch   48/53   train_loss = 0.915\n",
      "Epoch  65 Batch    5/53   train_loss = 0.985\n",
      "Epoch  65 Batch   15/53   train_loss = 0.921\n",
      "Epoch  65 Batch   25/53   train_loss = 0.918\n",
      "Epoch  65 Batch   35/53   train_loss = 0.864\n",
      "Epoch  65 Batch   45/53   train_loss = 0.942\n",
      "Epoch  66 Batch    2/53   train_loss = 0.976\n",
      "Epoch  66 Batch   12/53   train_loss = 0.933\n",
      "Epoch  66 Batch   22/53   train_loss = 0.941\n",
      "Epoch  66 Batch   32/53   train_loss = 0.815\n",
      "Epoch  66 Batch   42/53   train_loss = 0.832\n",
      "Epoch  66 Batch   52/53   train_loss = 0.915\n",
      "Epoch  67 Batch    9/53   train_loss = 0.879\n",
      "Epoch  67 Batch   19/53   train_loss = 0.977\n",
      "Epoch  67 Batch   29/53   train_loss = 0.860\n",
      "Epoch  67 Batch   39/53   train_loss = 0.856\n",
      "Epoch  67 Batch   49/53   train_loss = 0.899\n",
      "Epoch  68 Batch    6/53   train_loss = 0.906\n",
      "Epoch  68 Batch   16/53   train_loss = 0.911\n",
      "Epoch  68 Batch   26/53   train_loss = 0.798\n",
      "Epoch  68 Batch   36/53   train_loss = 0.882\n",
      "Epoch  68 Batch   46/53   train_loss = 0.950\n",
      "Epoch  69 Batch    3/53   train_loss = 0.872\n",
      "Epoch  69 Batch   13/53   train_loss = 0.930\n",
      "Epoch  69 Batch   23/53   train_loss = 0.927\n",
      "Epoch  69 Batch   33/53   train_loss = 0.940\n",
      "Epoch  69 Batch   43/53   train_loss = 0.872\n",
      "Epoch  70 Batch    0/53   train_loss = 0.945\n",
      "Epoch  70 Batch   10/53   train_loss = 0.893\n",
      "Epoch  70 Batch   20/53   train_loss = 0.846\n",
      "Epoch  70 Batch   30/53   train_loss = 0.855\n",
      "Epoch  70 Batch   40/53   train_loss = 0.882\n",
      "Epoch  70 Batch   50/53   train_loss = 0.866\n",
      "Epoch  71 Batch    7/53   train_loss = 0.880\n",
      "Epoch  71 Batch   17/53   train_loss = 0.876\n",
      "Epoch  71 Batch   27/53   train_loss = 0.924\n",
      "Epoch  71 Batch   37/53   train_loss = 0.860\n",
      "Epoch  71 Batch   47/53   train_loss = 0.831\n",
      "Epoch  72 Batch    4/53   train_loss = 0.896\n",
      "Epoch  72 Batch   14/53   train_loss = 0.925\n",
      "Epoch  72 Batch   24/53   train_loss = 0.865\n",
      "Epoch  72 Batch   34/53   train_loss = 0.923\n",
      "Epoch  72 Batch   44/53   train_loss = 0.933\n",
      "Epoch  73 Batch    1/53   train_loss = 0.866\n",
      "Epoch  73 Batch   11/53   train_loss = 0.901\n",
      "Epoch  73 Batch   21/53   train_loss = 0.876\n",
      "Epoch  73 Batch   31/53   train_loss = 0.881\n",
      "Epoch  73 Batch   41/53   train_loss = 0.845\n",
      "Epoch  73 Batch   51/53   train_loss = 0.921\n",
      "Epoch  74 Batch    8/53   train_loss = 0.812\n",
      "Epoch  74 Batch   18/53   train_loss = 0.896\n",
      "Epoch  74 Batch   28/53   train_loss = 0.937\n",
      "Epoch  74 Batch   38/53   train_loss = 0.926\n",
      "Epoch  74 Batch   48/53   train_loss = 0.874\n",
      "Epoch  75 Batch    5/53   train_loss = 0.879\n",
      "Epoch  75 Batch   15/53   train_loss = 0.876\n",
      "Epoch  75 Batch   25/53   train_loss = 0.891\n",
      "Epoch  75 Batch   35/53   train_loss = 0.833\n",
      "Epoch  75 Batch   45/53   train_loss = 0.868\n",
      "Epoch  76 Batch    2/53   train_loss = 0.943\n",
      "Epoch  76 Batch   12/53   train_loss = 0.907\n",
      "Epoch  76 Batch   22/53   train_loss = 0.887\n",
      "Epoch  76 Batch   32/53   train_loss = 0.777\n",
      "Epoch  76 Batch   42/53   train_loss = 0.798\n",
      "Epoch  76 Batch   52/53   train_loss = 0.829\n",
      "Epoch  77 Batch    9/53   train_loss = 0.842\n",
      "Epoch  77 Batch   19/53   train_loss = 0.925\n",
      "Epoch  77 Batch   29/53   train_loss = 0.844\n",
      "Epoch  77 Batch   39/53   train_loss = 0.853\n",
      "Epoch  77 Batch   49/53   train_loss = 0.901\n",
      "Epoch  78 Batch    6/53   train_loss = 0.855\n",
      "Epoch  78 Batch   16/53   train_loss = 0.886\n",
      "Epoch  78 Batch   26/53   train_loss = 0.790\n",
      "Epoch  78 Batch   36/53   train_loss = 0.863\n",
      "Epoch  78 Batch   46/53   train_loss = 0.895\n",
      "Epoch  79 Batch    3/53   train_loss = 0.900\n",
      "Epoch  79 Batch   13/53   train_loss = 0.861\n",
      "Epoch  79 Batch   23/53   train_loss = 0.881\n",
      "Epoch  79 Batch   33/53   train_loss = 0.849\n",
      "Epoch  79 Batch   43/53   train_loss = 0.875\n",
      "Epoch  80 Batch    0/53   train_loss = 0.837\n",
      "Epoch  80 Batch   10/53   train_loss = 0.786\n",
      "Epoch  80 Batch   20/53   train_loss = 0.791\n",
      "Epoch  80 Batch   30/53   train_loss = 0.872\n",
      "Epoch  80 Batch   40/53   train_loss = 0.786\n",
      "Epoch  80 Batch   50/53   train_loss = 0.814\n",
      "Epoch  81 Batch    7/53   train_loss = 0.808\n",
      "Epoch  81 Batch   17/53   train_loss = 0.793\n",
      "Epoch  81 Batch   27/53   train_loss = 0.851\n",
      "Epoch  81 Batch   37/53   train_loss = 0.783\n",
      "Epoch  81 Batch   47/53   train_loss = 0.798\n",
      "Epoch  82 Batch    4/53   train_loss = 0.762\n",
      "Epoch  82 Batch   14/53   train_loss = 0.791\n",
      "Epoch  82 Batch   24/53   train_loss = 0.725\n",
      "Epoch  82 Batch   34/53   train_loss = 0.823\n",
      "Epoch  82 Batch   44/53   train_loss = 0.784\n",
      "Epoch  83 Batch    1/53   train_loss = 0.745\n",
      "Epoch  83 Batch   11/53   train_loss = 0.846\n",
      "Epoch  83 Batch   21/53   train_loss = 0.716\n",
      "Epoch  83 Batch   31/53   train_loss = 0.765\n",
      "Epoch  83 Batch   41/53   train_loss = 0.751\n",
      "Epoch  83 Batch   51/53   train_loss = 0.756\n",
      "Epoch  84 Batch    8/53   train_loss = 0.691\n",
      "Epoch  84 Batch   18/53   train_loss = 0.744\n",
      "Epoch  84 Batch   28/53   train_loss = 0.790\n",
      "Epoch  84 Batch   38/53   train_loss = 0.777\n",
      "Epoch  84 Batch   48/53   train_loss = 0.709\n",
      "Epoch  85 Batch    5/53   train_loss = 0.784\n",
      "Epoch  85 Batch   15/53   train_loss = 0.727\n",
      "Epoch  85 Batch   25/53   train_loss = 0.727\n",
      "Epoch  85 Batch   35/53   train_loss = 0.704\n",
      "Epoch  85 Batch   45/53   train_loss = 0.770\n",
      "Epoch  86 Batch    2/53   train_loss = 0.778\n",
      "Epoch  86 Batch   12/53   train_loss = 0.741\n",
      "Epoch  86 Batch   22/53   train_loss = 0.744\n",
      "Epoch  86 Batch   32/53   train_loss = 0.671\n",
      "Epoch  86 Batch   42/53   train_loss = 0.676\n",
      "Epoch  86 Batch   52/53   train_loss = 0.718\n",
      "Epoch  87 Batch    9/53   train_loss = 0.686\n",
      "Epoch  87 Batch   19/53   train_loss = 0.747\n",
      "Epoch  87 Batch   29/53   train_loss = 0.723\n",
      "Epoch  87 Batch   39/53   train_loss = 0.705\n",
      "Epoch  87 Batch   49/53   train_loss = 0.676\n",
      "Epoch  88 Batch    6/53   train_loss = 0.674\n",
      "Epoch  88 Batch   16/53   train_loss = 0.696\n",
      "Epoch  88 Batch   26/53   train_loss = 0.598\n",
      "Epoch  88 Batch   36/53   train_loss = 0.744\n",
      "Epoch  88 Batch   46/53   train_loss = 0.712\n",
      "Epoch  89 Batch    3/53   train_loss = 0.715\n",
      "Epoch  89 Batch   13/53   train_loss = 0.709\n",
      "Epoch  89 Batch   23/53   train_loss = 0.691\n",
      "Epoch  89 Batch   33/53   train_loss = 0.700\n",
      "Epoch  89 Batch   43/53   train_loss = 0.683\n",
      "Epoch  90 Batch    0/53   train_loss = 0.709\n",
      "Epoch  90 Batch   10/53   train_loss = 0.704\n",
      "Epoch  90 Batch   20/53   train_loss = 0.671\n",
      "Epoch  90 Batch   30/53   train_loss = 0.688\n",
      "Epoch  90 Batch   40/53   train_loss = 0.670\n",
      "Epoch  90 Batch   50/53   train_loss = 0.631\n",
      "Epoch  91 Batch    7/53   train_loss = 0.632\n",
      "Epoch  91 Batch   17/53   train_loss = 0.603\n",
      "Epoch  91 Batch   27/53   train_loss = 0.675\n",
      "Epoch  91 Batch   37/53   train_loss = 0.651\n",
      "Epoch  91 Batch   47/53   train_loss = 0.652\n",
      "Epoch  92 Batch    4/53   train_loss = 0.670\n",
      "Epoch  92 Batch   14/53   train_loss = 0.653\n",
      "Epoch  92 Batch   24/53   train_loss = 0.614\n",
      "Epoch  92 Batch   34/53   train_loss = 0.646\n",
      "Epoch  92 Batch   44/53   train_loss = 0.663\n",
      "Epoch  93 Batch    1/53   train_loss = 0.607\n",
      "Epoch  93 Batch   11/53   train_loss = 0.668\n",
      "Epoch  93 Batch   21/53   train_loss = 0.579\n",
      "Epoch  93 Batch   31/53   train_loss = 0.623\n",
      "Epoch  93 Batch   41/53   train_loss = 0.598\n",
      "Epoch  93 Batch   51/53   train_loss = 0.633\n",
      "Epoch  94 Batch    8/53   train_loss = 0.613\n",
      "Epoch  94 Batch   18/53   train_loss = 0.644\n",
      "Epoch  94 Batch   28/53   train_loss = 0.657\n",
      "Epoch  94 Batch   38/53   train_loss = 0.685\n",
      "Epoch  94 Batch   48/53   train_loss = 0.602\n",
      "Epoch  95 Batch    5/53   train_loss = 0.652\n",
      "Epoch  95 Batch   15/53   train_loss = 0.623\n",
      "Epoch  95 Batch   25/53   train_loss = 0.653\n",
      "Epoch  95 Batch   35/53   train_loss = 0.571\n",
      "Epoch  95 Batch   45/53   train_loss = 0.602\n",
      "Epoch  96 Batch    2/53   train_loss = 0.650\n",
      "Epoch  96 Batch   12/53   train_loss = 0.592\n",
      "Epoch  96 Batch   22/53   train_loss = 0.604\n",
      "Epoch  96 Batch   32/53   train_loss = 0.565\n",
      "Epoch  96 Batch   42/53   train_loss = 0.593\n",
      "Epoch  96 Batch   52/53   train_loss = 0.606\n",
      "Epoch  97 Batch    9/53   train_loss = 0.593\n",
      "Epoch  97 Batch   19/53   train_loss = 0.633\n",
      "Epoch  97 Batch   29/53   train_loss = 0.602\n",
      "Epoch  97 Batch   39/53   train_loss = 0.600\n",
      "Epoch  97 Batch   49/53   train_loss = 0.586\n",
      "Epoch  98 Batch    6/53   train_loss = 0.632\n",
      "Epoch  98 Batch   16/53   train_loss = 0.599\n",
      "Epoch  98 Batch   26/53   train_loss = 0.550\n",
      "Epoch  98 Batch   36/53   train_loss = 0.626\n",
      "Epoch  98 Batch   46/53   train_loss = 0.573\n",
      "Epoch  99 Batch    3/53   train_loss = 0.625\n",
      "Epoch  99 Batch   13/53   train_loss = 0.617\n",
      "Epoch  99 Batch   23/53   train_loss = 0.645\n",
      "Epoch  99 Batch   33/53   train_loss = 0.632\n",
      "Epoch  99 Batch   43/53   train_loss = 0.661\n",
      "Model Trained and Saved\n"
     ]
    }
   ],
   "source": [
    "\"\"\"\n",
    "DON'T MODIFY ANYTHING IN THIS CELL\n",
    "\"\"\"\n",
    "batches = get_batches(int_text, batch_size, seq_length)\n",
    "\n",
    "with tf.Session(graph=train_graph) as sess:\n",
    "    sess.run(tf.global_variables_initializer())\n",
    "\n",
    "    for epoch_i in range(num_epochs):\n",
    "        state = sess.run(initial_state, {input_text: batches[0][0]})\n",
    "\n",
    "        for batch_i, (x, y) in enumerate(batches):\n",
    "            feed = {\n",
    "                input_text: x,\n",
    "                targets: y,\n",
    "                initial_state: state,\n",
    "                lr: learning_rate}\n",
    "            train_loss, state, _ = sess.run([cost, final_state, train_op], feed)\n",
    "\n",
    "            # Show every <show_every_n_batches> batches\n",
    "            if (epoch_i * len(batches) + batch_i) % show_every_n_batches == 0:\n",
    "                print('Epoch {:>3} Batch {:>4}/{}   train_loss = {:.3f}'.format(\n",
    "                    epoch_i,\n",
    "                    batch_i,\n",
    "                    len(batches),\n",
    "                    train_loss))\n",
    "\n",
    "    # Save Model\n",
    "    saver = tf.train.Saver()\n",
    "    saver.save(sess, save_dir)\n",
    "    print('Model Trained and Saved')"
   ]
  },
  {
   "cell_type": "markdown",
   "metadata": {
    "deletable": true,
    "editable": true
   },
   "source": [
    "## Save Parameters\n",
    "Save `seq_length` and `save_dir` for generating a new TV script."
   ]
  },
  {
   "cell_type": "code",
   "execution_count": 17,
   "metadata": {
    "collapsed": false,
    "deletable": true,
    "editable": true
   },
   "outputs": [],
   "source": [
    "\"\"\"\n",
    "DON'T MODIFY ANYTHING IN THIS CELL\n",
    "\"\"\"\n",
    "# Save parameters for checkpoint\n",
    "helper.save_params((seq_length, save_dir))"
   ]
  },
  {
   "cell_type": "markdown",
   "metadata": {
    "deletable": true,
    "editable": true
   },
   "source": [
    "# Checkpoint"
   ]
  },
  {
   "cell_type": "code",
   "execution_count": 18,
   "metadata": {
    "collapsed": false,
    "deletable": true,
    "editable": true
   },
   "outputs": [],
   "source": [
    "\"\"\"\n",
    "DON'T MODIFY ANYTHING IN THIS CELL\n",
    "\"\"\"\n",
    "import tensorflow as tf\n",
    "import numpy as np\n",
    "import helper\n",
    "import problem_unittests as tests\n",
    "\n",
    "_, vocab_to_int, int_to_vocab, token_dict = helper.load_preprocess()\n",
    "seq_length, load_dir = helper.load_params()"
   ]
  },
  {
   "cell_type": "markdown",
   "metadata": {
    "deletable": true,
    "editable": true
   },
   "source": [
    "## Implement Generate Functions\n",
    "### Get Tensors\n",
    "Get tensors from `loaded_graph` using the function [`get_tensor_by_name()`](https://www.tensorflow.org/api_docs/python/tf/Graph#get_tensor_by_name).  Get the tensors using the following names:\n",
    "- \"input:0\"\n",
    "- \"initial_state:0\"\n",
    "- \"final_state:0\"\n",
    "- \"probs:0\"\n",
    "\n",
    "Return the tensors in the following tuple `(InputTensor, InitialStateTensor, FinalStateTensor, ProbsTensor)` "
   ]
  },
  {
   "cell_type": "code",
   "execution_count": 19,
   "metadata": {
    "collapsed": false,
    "deletable": true,
    "editable": true
   },
   "outputs": [
    {
     "name": "stdout",
     "output_type": "stream",
     "text": [
      "Tests Passed\n"
     ]
    }
   ],
   "source": [
    "def get_tensors(loaded_graph):\n",
    "    \"\"\"\n",
    "    Get input, initial state, final state, and probabilities tensor from <loaded_graph>\n",
    "    :param loaded_graph: TensorFlow graph loaded from file\n",
    "    :return: Tuple (InputTensor, InitialStateTensor, FinalStateTensor, ProbsTensor)\n",
    "    \"\"\"\n",
    "    input0 = loaded_graph.get_tensor_by_name('input:0')\n",
    "    initial_state0 = loaded_graph.get_tensor_by_name('initial_state:0')\n",
    "    final_state0 = loaded_graph.get_tensor_by_name('final_state:0')\n",
    "    probs0 = loaded_graph.get_tensor_by_name('probs:0')\n",
    "    \n",
    "    return input0, initial_state0, final_state0, probs0\n",
    "\n",
    "\n",
    "\"\"\"\n",
    "DON'T MODIFY ANYTHING IN THIS CELL THAT IS BELOW THIS LINE\n",
    "\"\"\"\n",
    "tests.test_get_tensors(get_tensors)"
   ]
  },
  {
   "cell_type": "markdown",
   "metadata": {
    "deletable": true,
    "editable": true
   },
   "source": [
    "### Choose Word\n",
    "Implement the `pick_word()` function to select the next word using `probabilities`."
   ]
  },
  {
   "cell_type": "code",
   "execution_count": 20,
   "metadata": {
    "collapsed": false,
    "deletable": true,
    "editable": true
   },
   "outputs": [
    {
     "name": "stdout",
     "output_type": "stream",
     "text": [
      "Tests Passed\n"
     ]
    }
   ],
   "source": [
    "def pick_word(probabilities, int_to_vocab):\n",
    "    \"\"\"\n",
    "    Pick the next word in the generated text\n",
    "    :param probabilities: Probabilites of the next word\n",
    "    :param int_to_vocab: Dictionary of word ids as the keys and words as the values\n",
    "    :return: String of the predicted word\n",
    "    \"\"\"\n",
    "    return np.random.choice(list(int_to_vocab.values()), 1, p=probabilities)[0]\n",
    "\n",
    "\"\"\"\n",
    "DON'T MODIFY ANYTHING IN THIS CELL THAT IS BELOW THIS LINE\n",
    "\"\"\"\n",
    "tests.test_pick_word(pick_word)"
   ]
  },
  {
   "cell_type": "markdown",
   "metadata": {
    "deletable": true,
    "editable": true
   },
   "source": [
    "## Generate TV Script\n",
    "This will generate the TV script for you.  Set `gen_length` to the length of TV script you want to generate."
   ]
  },
  {
   "cell_type": "code",
   "execution_count": 21,
   "metadata": {
    "collapsed": false,
    "deletable": true,
    "editable": true
   },
   "outputs": [
    {
     "name": "stdout",
     "output_type": "stream",
     "text": [
      "moe_szyslak: homer, you gotta stay back out of the\" clearing moe?(very off) so his degradation continued. that's why i might do if i put here with a road trip?\n",
      "homer_simpson: no, i need you to meet the right of my christmas out of a hundred of calling in this guy, homer.\n",
      "homer_simpson:(realizing) hey, what's this?\n",
      "moe_szyslak: i take it if you going to old friends?\n",
      "homer_simpson:(running in) listen homer, the gimmick is, or a little dank.\n",
      "moe_szyslak: homer, i can't very real gold!\n",
      "carl_carlson:(upset) hey moe, howya told me a new barney? he looks like you.\n",
      "moe_szyslak:(sings) you know my answer.\n",
      "\n",
      "\n",
      "barney_gumble: moe's, stupid.\n",
      "narrator:(to homer) ya one would?\n",
      "chief_wiggum: now, nice and a game alfalfa of the pool ned.\n",
      "homer_simpson:(sigh) i'm lisa like you want help together in the face.\n",
      "\n",
      "\n",
      "barney_gumble: oh, he's too cowardly to\n"
     ]
    }
   ],
   "source": [
    "gen_length = 200\n",
    "# homer_simpson, moe_szyslak, or Barney_Gumble\n",
    "prime_word = 'moe_szyslak'\n",
    "\n",
    "\"\"\"\n",
    "DON'T MODIFY ANYTHING IN THIS CELL THAT IS BELOW THIS LINE\n",
    "\"\"\"\n",
    "loaded_graph = tf.Graph()\n",
    "with tf.Session(graph=loaded_graph) as sess:\n",
    "    # Load saved model\n",
    "    loader = tf.train.import_meta_graph(load_dir + '.meta')\n",
    "    loader.restore(sess, load_dir)\n",
    "\n",
    "    # Get Tensors from loaded model\n",
    "    input_text, initial_state, final_state, probs = get_tensors(loaded_graph)\n",
    "\n",
    "    # Sentences generation setup\n",
    "    gen_sentences = [prime_word + ':']\n",
    "    prev_state = sess.run(initial_state, {input_text: np.array([[1]])})\n",
    "\n",
    "    # Generate sentences\n",
    "    for n in range(gen_length):\n",
    "        # Dynamic Input\n",
    "        dyn_input = [[vocab_to_int[word] for word in gen_sentences[-seq_length:]]]\n",
    "        dyn_seq_length = len(dyn_input[0])\n",
    "\n",
    "        # Get Prediction\n",
    "        probabilities, prev_state = sess.run(\n",
    "            [probs, final_state],\n",
    "            {input_text: dyn_input, initial_state: prev_state})\n",
    "        \n",
    "        pred_word = pick_word(probabilities[dyn_seq_length-1], int_to_vocab)\n",
    "\n",
    "        gen_sentences.append(pred_word)\n",
    "    \n",
    "    # Remove tokens\n",
    "    tv_script = ' '.join(gen_sentences)\n",
    "    for key, token in token_dict.items():\n",
    "        ending = ' ' if key in ['\\n', '(', '\"'] else ''\n",
    "        tv_script = tv_script.replace(' ' + token.lower(), key)\n",
    "    tv_script = tv_script.replace('\\n ', '\\n')\n",
    "    tv_script = tv_script.replace('( ', '(')\n",
    "        \n",
    "    print(tv_script)"
   ]
  },
  {
   "cell_type": "markdown",
   "metadata": {
    "deletable": true,
    "editable": true
   },
   "source": [
    "# The TV Script is Nonsensical\n",
    "It's ok if the TV script doesn't make any sense.  We trained on less than a megabyte of text.  In order to get good results, you'll have to use a smaller vocabulary or get more data.  Luckly there's more data!  As we mentioned in the begging of this project, this is a subset of [another dataset](https://www.kaggle.com/wcukierski/the-simpsons-by-the-data).  We didn't have you train on all the data, because that would take too long.  However, you are free to train your neural network on all the data.  After you complete the project, of course.\n",
    "# Submitting This Project\n",
    "When submitting this project, make sure to run all the cells before saving the notebook. Save the notebook file as \"dlnd_tv_script_generation.ipynb\" and save it as a HTML file under \"File\" -> \"Download as\". Include the \"helper.py\" and \"problem_unittests.py\" files in your submission."
   ]
  },
  {
   "cell_type": "code",
   "execution_count": null,
   "metadata": {
    "collapsed": true
   },
   "outputs": [],
   "source": []
  }
 ],
 "metadata": {
  "kernelspec": {
   "display_name": "Python 3",
   "language": "python",
   "name": "python3"
  },
  "language_info": {
   "codemirror_mode": {
    "name": "ipython",
    "version": 3
   },
   "file_extension": ".py",
   "mimetype": "text/x-python",
   "name": "python",
   "nbconvert_exporter": "python",
   "pygments_lexer": "ipython3",
   "version": "3.5.2"
  },
  "widgets": {
   "state": {},
   "version": "1.1.2"
  }
 },
 "nbformat": 4,
 "nbformat_minor": 0
}
